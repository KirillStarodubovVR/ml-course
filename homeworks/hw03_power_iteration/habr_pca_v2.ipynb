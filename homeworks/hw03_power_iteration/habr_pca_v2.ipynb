{
 "cells": [
  {
   "cell_type": "code",
   "execution_count": 8,
   "metadata": {},
   "outputs": [],
   "source": [
    "import numpy as np\n",
    "import matplotlib.pyplot as plt"
   ]
  },
  {
   "cell_type": "code",
   "execution_count": 27,
   "metadata": {},
   "outputs": [],
   "source": [
    "# create the matrix with n-features\n",
    "n_features = 2\n",
    "n_objects = 20\n",
    "\n",
    "# create row array\n",
    "X1 = np.arange(1, 11)\n",
    "# create from X1 column vector\n",
    "X1 = X1[:, np.newaxis]\n",
    "# X2 should be automatically be column vector\n",
    "X2 = X1 * 2 + np.random.randint(-2, 2, size=X1.shape)\n",
    "\n"
   ]
  },
  {
   "cell_type": "code",
   "execution_count": 28,
   "metadata": {},
   "outputs": [],
   "source": [
    "# Atest = np.column_stack((X1, X2))\n",
    "A = np.hstack((X1, X2))\n",
    "# Amean = np.vstack()\n",
    "Acentered = A - A.mean(axis=0)\n"
   ]
  },
  {
   "cell_type": "code",
   "execution_count": 29,
   "metadata": {},
   "outputs": [
    {
     "data": {
      "image/png": "[encoded data removed]",
      "text/plain": [
       "<Figure size 1200x600 with 1 Axes>"
      ]
     },
     "metadata": {},
     "output_type": "display_data"
    }
   ],
   "source": [
    "fig = plt.figure(figsize=(12,6))\n",
    "ax = fig.add_subplot(1, 1, 1)\n",
    "\n",
    "ax.scatter(A[:,0], A[:,1], label='origin', alpha=0.2)\n",
    "ax.scatter(Acentered[:,0], Acentered[:,1], label='centered')\n",
    "# Move left y-axis and bottom x-axis to centre, passing through (0,0)\n",
    "ax.spines['left'].set_position('zero')\n",
    "ax.spines['bottom'].set_position('zero')\n",
    "\n",
    "# Eliminate upper and right axes\n",
    "ax.spines['right'].set_color('none')\n",
    "ax.spines['top'].set_color('none')\n",
    "\n",
    "# Show ticks in the left and lower axes only\n",
    "ax.xaxis.set_ticks_position('bottom')\n",
    "ax.yaxis.set_ticks_position('left')\n",
    "\n",
    "ax.set(xlim=(-40, 40), ylim=(-40, 40))\n",
    "\n",
    "ax.set_aspect('equal')\n",
    "ax.legend()\n",
    "\n",
    "plt.grid()"
   ]
  },
  {
   "attachments": {},
   "cell_type": "markdown",
   "metadata": {},
   "source": [
    "**Definition of covariance**\\\n",
    "For two jointly distributed real-valued random variables $X$ and $Y$ with finite second moments, the covariance is defined as the expected value (or mean) of the product of their deviations from their individual expected values\n",
    "\n",
    "*Expression for covariance*\n",
    "$$cov(X, Y) = E[(x_i - E[X])(y_i - E[Y])]$$\n",
    "$$cov(X, Y) = E[XY] - E[X]E[Y]$$\n",
    "where $E[X]$ is the expected value of $X$, also known as the mean of $X$. The covariance is also sometimes denoted $\\sigma _{XY}$ or $\\sigma (X, Y)$ in analogy to variance\n",
    "\n",
    "\n",
    "**Definition of deviation**\\\n",
    "is a measure of difference between the observed value of a variable and some other value, often that variable's mean\n",
    "\n",
    "*Expression for deviation*\n",
    "$$\n",
    "    D_i = |x_i - m(X)|=D_i = |x_i - E[X]|\n",
    "$$\n",
    "\n",
    "**Definition of variance**\\\n",
    "The variance of a random variable $X$ is the expected value of the squared deviation from the mean of $X$, $\\mu = E[X]$:\n",
    "$$\n",
    "Var(X) = E[(x_i - E(X))^2]\n",
    "$$\n",
    "\n",
    "**Standard deviation**\\\n",
    "In statistics, the standard deviation is a measure of the amount of variation or dispersion of a set of values.\n",
    "$$\\sigma = \\sqrt{Var(X)} = \\sqrt{E[(x_i - E(X))^2]}"
   ]
  },
  {
   "cell_type": "code",
   "execution_count": 30,
   "metadata": {},
   "outputs": [
    {
     "name": "stdout",
     "output_type": "stream",
     "text": [
      "[[ 9.16666667 19.05555556]\n",
      " [19.05555556 40.32222222]] \n",
      "\n",
      "Variance of X:  9.166666666666666\n",
      "Variance of Y:  40.322222222222216\n",
      "Covariance X and Y:  19.055555555555554\n"
     ]
    }
   ],
   "source": [
    "# Get the covariation matrix for out data\n",
    "covmat = np.cov(Acentered.T)\n",
    "print(covmat, \"\\n\")\n",
    "print(\"Variance of X: \", covmat[0,0])\n",
    "print(\"Variance of Y: \", covmat[1,1])\n",
    "print(\"Covariance X and Y: \", covmat[0,1])"
   ]
  },
  {
   "cell_type": "code",
   "execution_count": 49,
   "metadata": {},
   "outputs": [
    {
     "name": "stdout",
     "output_type": "stream",
     "text": [
      "eigenvector for covmat is \n",
      "[[-0.90358125 -0.42841676]\n",
      " [ 0.42841676 -0.90358125]]\n",
      "eigenvalue for covmat is \n",
      "[ 0.13181846 49.35707043]\n"
     ]
    }
   ],
   "source": [
    "# Find the eigenvalues and eigenvectors\n",
    "eigenvalue, eigenvector = np.linalg.eig(covmat)\n",
    "print(f'eigenvector for covmat is \\n{eigenvector}')\n",
    "print(f'eigenvalue for covmat is \\n{eigenvalue}')"
   ]
  },
  {
   "cell_type": "code",
   "execution_count": 99,
   "metadata": {},
   "outputs": [],
   "source": [
    "# Change the direction of 2nd vector\n",
    "eigenvector[:, 1] = -eigenvector[:, 1]"
   ]
  },
  {
   "cell_type": "code",
   "execution_count": 62,
   "metadata": {},
   "outputs": [
    {
     "name": "stdout",
     "output_type": "stream",
     "text": [
      "direction of maximum dispersion is [-0.42841676 -0.90358125]\n"
     ]
    }
   ],
   "source": [
    "# the direction of maximum dispersion is:\n",
    "print(f'direction of maximum dispersion is {eigenvector[:,1]}')"
   ]
  },
  {
   "cell_type": "code",
   "execution_count": 100,
   "metadata": {},
   "outputs": [
    {
     "name": "stdout",
     "output_type": "stream",
     "text": [
      "[2.87228132 6.02411819]\n",
      "12.048236385463227 5.744562646538029\n"
     ]
    }
   ],
   "source": [
    "# Standard deviation\n",
    "sigma = np.std(Acentered, axis=0)\n",
    "print(sigma)\n",
    "# How many sigmas we interests\n",
    "n = 2\n",
    "# main axis for ellipse R1\n",
    "R1 = n * max(sigma)\n",
    "# sub axis for ellipse R2\n",
    "R2 = n * min(sigma)\n",
    "\n",
    "print(R1, R2)"
   ]
  },
  {
   "cell_type": "code",
   "execution_count": 108,
   "metadata": {},
   "outputs": [],
   "source": [
    "angle = np.dot(eigenvector[:, 1], np.array([1, 0])) / np.linalg.norm(eigenvector[:, 1]) / np.linalg.norm(np.array([1, 0]))\n",
    "angle = np.pi / 2 - angle"
   ]
  },
  {
   "cell_type": "code",
   "execution_count": 109,
   "metadata": {},
   "outputs": [
    {
     "data": {
      "text/plain": [
       "2.8722813232690143"
      ]
     },
     "execution_count": 109,
     "metadata": {},
     "output_type": "execute_result"
    }
   ],
   "source": [
    "Acentered[:, 0].std()"
   ]
  },
  {
   "cell_type": "code",
   "execution_count": 110,
   "metadata": {},
   "outputs": [
    {
     "data": {
      "image/png": "[encoded data removed]",
      "text/plain": [
       "<Figure size 1200x600 with 1 Axes>"
      ]
     },
     "metadata": {},
     "output_type": "display_data"
    }
   ],
   "source": [
    "fig = plt.figure(figsize=(12,6))\n",
    "ax = fig.add_subplot(1,1,1)\n",
    "origin = np.array([[0, 0], [0, 0]])\n",
    "\n",
    "# Plot our centered data to the figure\n",
    "ax.scatter(Acentered[:, 0], Acentered[:, 1])\n",
    "\n",
    "# Show the coordinate frame for eigenvectors\n",
    "origin = np.array([[0, 0], [0, 0]])\n",
    "plt.quiver(*origin, eigenvector[0, :], eigenvector[1, :], color=['r', 'g'])\n",
    "\n",
    "# Ellipse\n",
    "t = np.linspace(0, 2*np.pi, 100)\n",
    "Ell = np.array([R1*np.cos(t) , R2*np.sin(t)])  \n",
    "     #u,v removed to keep the same center location\n",
    "R_rot = np.array([[np.cos(angle) , -np.sin(angle)],[np.sin(angle) , np.cos(angle)]])  \n",
    "     #2-D rotation matrix\n",
    "\n",
    "Ell_rot = np.zeros((2,Ell.shape[1]))\n",
    "for i in range(Ell.shape[1]):\n",
    "    Ell_rot[:,i] = np.dot(R_rot, Ell[:,i])\n",
    "\n",
    "plt.plot(Ell_rot[0,:] , Ell_rot[1,:],'darkorange' )    #rotated ellipse\n",
    "\n",
    "ax.set_aspect(aspect='equal')\n",
    "\n",
    "# Move left y-axis and bottom x-axis to centre, passing through (0,0)\n",
    "ax.spines['left'].set_position('zero')\n",
    "ax.spines['bottom'].set_position('zero')\n",
    "\n",
    "# Eliminate upper and right axes\n",
    "ax.spines['right'].set_color('none')\n",
    "ax.spines['top'].set_color('none')\n",
    "\n",
    "# Show ticks in the left and lower axes only\n",
    "ax.xaxis.set_ticks_position('bottom')\n",
    "ax.yaxis.set_ticks_position('left')\n",
    "\n",
    "ax.set(xlim=(-15, 15), ylim=(-15, 15))\n",
    "\n",
    "# Create grid\n",
    "ax.grid()"
   ]
  },
  {
   "cell_type": "code",
   "execution_count": 117,
   "metadata": {},
   "outputs": [
    {
     "data": {
      "text/plain": [
       "array([-11.05404607,  -7.91488555,  -4.77572504,  -3.44372702,\n",
       "        -1.20814776,   0.12385026,   4.16659202,   6.40217129,\n",
       "         6.83058805,  10.87332982])"
      ]
     },
     "execution_count": 117,
     "metadata": {},
     "output_type": "execute_result"
    }
   ],
   "source": [
    "eigenvector[:, 1].dot(Acentered.T)\n"
   ]
  },
  {
   "cell_type": "code",
   "execution_count": 121,
   "metadata": {},
   "outputs": [
    {
     "data": {
      "text/plain": [
       "((1, 2), (2, 10))"
      ]
     },
     "execution_count": 121,
     "metadata": {},
     "output_type": "execute_result"
    }
   ],
   "source": [
    "eigenvector[:, 1][np.newaxis, :].shape, Acentered.T.shape"
   ]
  },
  {
   "cell_type": "code",
   "execution_count": null,
   "metadata": {},
   "outputs": [],
   "source": []
  },
  {
   "cell_type": "code",
   "execution_count": null,
   "metadata": {},
   "outputs": [],
   "source": []
  },
  {
   "cell_type": "code",
   "execution_count": null,
   "metadata": {},
   "outputs": [
    {
     "name": "stdout",
     "output_type": "stream",
     "text": [
      "{'1': 's'}\n"
     ]
    }
   ],
   "source": []
  }
 ],
 "metadata": {
  "kernelspec": {
   "display_name": "cv_venv",
   "language": "python",
   "name": "python3"
  },
  "language_info": {
   "codemirror_mode": {
    "name": "ipython",
    "version": 3
   },
   "file_extension": ".py",
   "mimetype": "text/x-python",
   "name": "python",
   "nbconvert_exporter": "python",
   "pygments_lexer": "ipython3",
   "version": "3.9.13"
  },
  "orig_nbformat": 4,
  "vscode": {
   "interpreter": {
    "hash": "a204dfc2b70952c6ab8abd86344f2f4740e4c5a200e100491079a50d822fe852"
   }
  }
 },
 "nbformat": 4,
 "nbformat_minor": 2
}
