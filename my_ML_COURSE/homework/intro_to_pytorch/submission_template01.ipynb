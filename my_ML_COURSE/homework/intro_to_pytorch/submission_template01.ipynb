{
 "cells": [
  {
   "cell_type": "code",
   "execution_count": null,
   "metadata": {},
   "outputs": [],
   "source": [
    "import numpy as np\n",
    "import torch\n",
    "from torch import nn\n",
    "\n",
    "def create_model():\n",
    "    model = nn.Sequential()\n",
    "    # Linear layer mapping from 784 features, so it should be 784->256->16->10\n",
    "\n",
    "    # your code here\n",
    "    # Linear layer mapping from 784 features, so it should be 784->256\n",
    "    model.add_module('l1', nn.Linear(784, 256))\n",
    "    # Linear layer mapping from 256 features, so it should be 256->16\n",
    "    model.add_module('l2', nn.Linear(256, 16))\n",
    "    # Linear layer mapping from 16 features, so it should be 16->1\n",
    "    model.add_module('l3', nn.Linear(16, 1))\n",
    "    # return model instance (None is just a placeholder)\n",
    "    \n",
    "    return model\n",
    "\n",
    "def count_parameters(model):\n",
    "    # your code here\n",
    "    num_params = 0\n",
    "    for param in model.parameters():\n",
    "      print(param.shape, param.size())\n",
    "    # return integer number (None is just a placeholder)\n",
    "    \n",
    "    return sum(p.numel() for p in model.parameters())"
   ]
  }
 ],
 "metadata": {
  "language_info": {
   "name": "python"
  },
  "orig_nbformat": 4
 },
 "nbformat": 4,
 "nbformat_minor": 2
}
