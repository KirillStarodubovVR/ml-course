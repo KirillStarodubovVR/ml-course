{
 "cells": [
  {
   "cell_type": "markdown",
   "metadata": {
    "id": "dUXOlcXZJ4gN"
   },
   "source": [
    "# Ensembles\n"
   ]
  },
  {
   "cell_type": "code",
   "execution_count": 1,
   "metadata": {
    "id": "zYqTjk-NJ4gP"
   },
   "outputs": [],
   "source": [
    "from collections import Counter\n",
    "\n",
    "from IPython.display import Image\n",
    "\n",
    "from tqdm import tqdm\n",
    "\n",
    "import warnings\n",
    "warnings.simplefilter(\"ignore\")\n",
    "\n",
    "import numpy as np\n",
    "import pandas as pd\n",
    "from matplotlib import pyplot as plt\n",
    "plt.rcParams['figure.figsize'] = 10, 6\n",
    "%matplotlib inline\n",
    "\n",
    "from sklearn.datasets import load_digits as load\n",
    "from sklearn.model_selection import cross_val_score, train_test_split\n",
    "from sklearn.ensemble import BaggingClassifier\n",
    "from sklearn.neighbors import KNeighborsClassifier\n",
    "from sklearn.linear_model import LogisticRegression\n",
    "from sklearn.ensemble import RandomForestRegressor, RandomForestClassifier, BaggingRegressor\n",
    "from sklearn.tree import DecisionTreeRegressor, DecisionTreeClassifier\n",
    "\n",
    "import pandas as pd\n",
    "from sklearn.model_selection import cross_val_score, GridSearchCV\n",
    "from sklearn.metrics import accuracy_score, precision_score, recall_score"
   ]
  },
  {
   "cell_type": "markdown",
   "metadata": {
    "id": "Ni67y2vlJ4gR"
   },
   "source": [
    "----------\n",
    "<h1 align=\"center\">Bagging</h1> \n"
   ]
  },
  {
   "cell_type": "markdown",
   "metadata": {
    "id": "ey407SIhJ4gS"
   },
   "source": [
    "### Bagging"
   ]
  },
  {
   "cell_type": "markdown",
   "metadata": {
    "id": "jB-cOYsZJ4gT"
   },
   "source": [
    "## $$a_{Bagging}(x) = \\frac{1}{M}\\sum_{i=1}^M a_i(x)$$\n",
    "\n",
    "$a_i(x)$ trained on $X^i$"
   ]
  },
  {
   "cell_type": "markdown",
   "metadata": {
    "id": "pCXIJJElJ4gT"
   },
   "source": [
    "<img src='https://github.com/girafe-ai/ml-course/blob/21f_basic/week0_05_trees_and_ensembles/img/bagging.png?raw=1'>"
   ]
  },
  {
   "cell_type": "code",
   "execution_count": 2,
   "metadata": {
    "id": "KtvwuaigJ4gT"
   },
   "outputs": [],
   "source": [
    "digits = load()\n",
    "X = digits.data\n",
    "y = digits.target\n",
    "\n",
    "f = X.shape[1]\n",
    "rnd_d3 = DecisionTreeClassifier(max_features=int(f ** 0.5))\n",
    "d3 = DecisionTreeClassifier()"
   ]
  },
  {
   "cell_type": "code",
   "execution_count": 8,
   "metadata": {},
   "outputs": [
    {
     "data": {
      "text/plain": [
       "Counter({0: 178,\n",
       "         1: 182,\n",
       "         2: 177,\n",
       "         3: 183,\n",
       "         4: 181,\n",
       "         5: 182,\n",
       "         6: 181,\n",
       "         7: 179,\n",
       "         8: 174,\n",
       "         9: 180})"
      ]
     },
     "execution_count": 8,
     "metadata": {},
     "output_type": "execute_result"
    }
   ],
   "source": [
    "Counter(y)"
   ]
  },
  {
   "cell_type": "code",
   "execution_count": 3,
   "metadata": {},
   "outputs": [
    {
     "data": {
      "text/plain": [
       "(1797, 64)"
      ]
     },
     "execution_count": 3,
     "metadata": {},
     "output_type": "execute_result"
    }
   ],
   "source": [
    "X.shape"
   ]
  },
  {
   "cell_type": "code",
   "execution_count": 4,
   "metadata": {
    "id": "NOublVf8J4gT"
   },
   "outputs": [],
   "source": [
    "from sklearn.ensemble import RandomForestClassifier"
   ]
  },
  {
   "cell_type": "code",
   "execution_count": 5,
   "metadata": {
    "colab": {
     "base_uri": "https://localhost:8080/"
    },
    "id": "vL44lbnjJ4gU",
    "outputId": "60dae08e-8940-4f06-f9eb-beb2fe8c2b35"
   },
   "outputs": [
    {
     "data": {
      "text/plain": [
       "sklearn.ensemble._forest.RandomForestClassifier"
      ]
     },
     "execution_count": 5,
     "metadata": {},
     "output_type": "execute_result"
    }
   ],
   "source": [
    "RandomForestClassifier"
   ]
  },
  {
   "cell_type": "code",
   "execution_count": 6,
   "metadata": {
    "colab": {
     "base_uri": "https://localhost:8080/"
    },
    "id": "jdqxFuMaLsKF",
    "outputId": "b69e3f6d-5f66-4b36-a71d-4bd3cbfaab30"
   },
   "outputs": [
    {
     "data": {
      "text/plain": [
       "1.0"
      ]
     },
     "execution_count": 6,
     "metadata": {},
     "output_type": "execute_result"
    }
   ],
   "source": [
    "d3.fit(X, y)\n",
    "d3.score(X, y)"
   ]
  },
  {
   "cell_type": "code",
   "execution_count": 9,
   "metadata": {
    "colab": {
     "base_uri": "https://localhost:8080/"
    },
    "id": "6y7UyIbKJ4gU",
    "outputId": "81378744-ba6f-46c7-f8ea-fb67c5a90fb1"
   },
   "outputs": [
    {
     "name": "stdout",
     "output_type": "stream",
     "text": [
      "Decision tree: 0.7830099040544722\n"
     ]
    }
   ],
   "source": [
    "print(\"Decision tree:\", cross_val_score(d3, X, y).mean())"
   ]
  },
  {
   "cell_type": "code",
   "execution_count": 10,
   "metadata": {
    "colab": {
     "base_uri": "https://localhost:8080/"
    },
    "id": "pbv2EKFeJ4gV",
    "outputId": "9d4710d0-9e47-4a1e-a57a-95d8ac386435"
   },
   "outputs": [
    {
     "name": "stdout",
     "output_type": "stream",
     "text": [
      "Bagging: 0.8781584648715569\n"
     ]
    }
   ],
   "source": [
    "print(\"Bagging:\", cross_val_score(BaggingClassifier(d3), X, y).mean())"
   ]
  },
  {
   "cell_type": "code",
   "execution_count": 11,
   "metadata": {
    "colab": {
     "base_uri": "https://localhost:8080/"
    },
    "id": "-qr2S_EAJ4gV",
    "outputId": "892c62da-6a24-4b91-9ad7-c858a5e87877"
   },
   "outputs": [
    {
     "name": "stdout",
     "output_type": "stream",
     "text": [
      "Randomized Bagging: 0.9093252862890745\n"
     ]
    }
   ],
   "source": [
    "print(\"Randomized Bagging:\", cross_val_score(BaggingClassifier(rnd_d3), X, y).mean())"
   ]
  },
  {
   "cell_type": "markdown",
   "metadata": {
    "id": "_165T7cTJ4gW"
   },
   "source": [
    "<h1 align=\"center\">Bias-Variance Tradeoff</h1> "
   ]
  },
  {
   "cell_type": "markdown",
   "metadata": {
    "id": "pvAHAkfnJ4gW"
   },
   "source": [
    "\n",
    "<img src='https://github.com/girafe-ai/ml-course/blob/21f_basic/week0_05_trees_and_ensembles/img/bv_darts.png?raw=1' width=400>\n",
    "\n",
    "\n",
    "<img src='https://github.com/girafe-ai/ml-course/blob/21f_basic/week0_05_trees_and_ensembles/img/bv_model_complex.png?raw=1'>\n"
   ]
  },
  {
   "cell_type": "markdown",
   "metadata": {
    "id": "hfRIHomRJ4gW"
   },
   "source": [
    "### Bias-Variance tradeoff"
   ]
  },
  {
   "cell_type": "markdown",
   "metadata": {
    "id": "bfBk8TPqJ4gX"
   },
   "source": [
    "$$y = f(x) + \\varepsilon$$"
   ]
  },
  {
   "cell_type": "markdown",
   "metadata": {
    "id": "XDjQylGIJ4gX"
   },
   "source": [
    "$$\\varepsilon \\sim N(0, \\sigma^2)$$"
   ]
  },
  {
   "cell_type": "markdown",
   "metadata": {
    "id": "4NpauJ4BJ4gX"
   },
   "source": [
    "$$y \\sim N(f(x), \\sigma^2)$$"
   ]
  },
  {
   "cell_type": "markdown",
   "metadata": {
    "id": "Oj3W29HTJ4gX"
   },
   "source": [
    "<img src='https://github.com/girafe-ai/ml-course/blob/21f_basic/week0_05_trees_and_ensembles/img/bv_1.png?raw=1'>\n",
    "<img src='https://github.com/girafe-ai/ml-course/blob/21f_basic/week0_05_trees_and_ensembles/img/bv_2.png?raw=1'>\n",
    "<img src='https://github.com/girafe-ai/ml-course/blob/21f_basic/week0_05_trees_and_ensembles/img/bv_3.png?raw=1'>\n",
    "<img src='https://github.com/girafe-ai/ml-course/blob/21f_basic/week0_05_trees_and_ensembles/img/bv_4.png?raw=1'>\n",
    "<img src='https://github.com/girafe-ai/ml-course/blob/21f_basic/week0_05_trees_and_ensembles/img/bv_5.png?raw=1'>"
   ]
  },
  {
   "cell_type": "markdown",
   "metadata": {
    "id": "E94QqJqhJ4gY"
   },
   "source": [
    "### Random Forest"
   ]
  },
  {
   "cell_type": "markdown",
   "metadata": {
    "id": "TRgn6O8lJ4ga"
   },
   "source": [
    "### Random Forest from sklearn"
   ]
  },
  {
   "cell_type": "code",
   "execution_count": 12,
   "metadata": {
    "colab": {
     "base_uri": "https://localhost:8080/"
    },
    "id": "iXVg83uKJ4gc",
    "outputId": "b3f3b210-ec04-42b5-d61d-589619fdc285"
   },
   "outputs": [
    {
     "name": "stdout",
     "output_type": "stream",
     "text": [
      "(549, 19) (549,) (297, 19) (297,)\n"
     ]
    }
   ],
   "source": [
    "dataset = pd.read_csv(\n",
    "    \"https://raw.githubusercontent.com/girafe-ai/ml-course/master/homeworks_basic/Lab1_ML_pipeline_and_SVM/car_data.csv\",\n",
    "    delimiter=',',\n",
    "    header=None\n",
    ").values\n",
    "\n",
    "data = dataset[:, :-1].astype(int)\n",
    "target = dataset[:, -1]\n",
    "\n",
    "\n",
    "X_train, X_test, y_train, y_test = train_test_split(data, target, test_size=0.35)\n",
    "print(X_train.shape, y_train.shape, X_test.shape, y_test.shape)"
   ]
  },
  {
   "cell_type": "code",
   "execution_count": 13,
   "metadata": {},
   "outputs": [
    {
     "data": {
      "text/plain": [
       "Counter({'saab': 141, 'bus': 136, 'van': 141, 'opel': 131})"
      ]
     },
     "execution_count": 13,
     "metadata": {},
     "output_type": "execute_result"
    }
   ],
   "source": [
    "Counter(y_train)"
   ]
  },
  {
   "cell_type": "code",
   "execution_count": 15,
   "metadata": {},
   "outputs": [
    {
     "name": "stdout",
     "output_type": "stream",
     "text": [
      "Random Forest CV accuracy score: 0.741\n",
      "Random Forest test accuracy score: 0.734\n"
     ]
    }
   ],
   "source": [
    "rf = RandomForestClassifier(random_state=42, n_jobs=-2, oob_score=True)\n",
    "\n",
    "cv_results = cross_val_score(rf, X_train, y_train)\n",
    "\n",
    "\n",
    "print(f\"Random Forest CV accuracy score: {cv_results.mean():.3f}\")\n",
    "print(f\"Random Forest test accuracy score: {rf.fit(X_train, y_train).score(X_test, y_test):.3f}\")"
   ]
  },
  {
   "cell_type": "code",
   "execution_count": 17,
   "metadata": {},
   "outputs": [
    {
     "data": {
      "text/plain": [
       "0.7304189435336976"
      ]
     },
     "execution_count": 17,
     "metadata": {},
     "output_type": "execute_result"
    }
   ],
   "source": [
    "rf.oob_score_"
   ]
  },
  {
   "cell_type": "code",
   "execution_count": 18,
   "metadata": {
    "colab": {
     "base_uri": "https://localhost:8080/"
    },
    "id": "Kj5nWVZxRhAA",
    "outputId": "3a1a9f9d-5fce-4756-8f6c-221e8c5b596f"
   },
   "outputs": [
    {
     "name": "stdout",
     "output_type": "stream",
     "text": [
      "Logirstic regression CV accuracy score: 0.668\n",
      "Logirstic regression test accuracy score: 0.724\n"
     ]
    }
   ],
   "source": [
    "lr = LogisticRegression()\n",
    "cv_results = cross_val_score(lr, X_train, y_train)\n",
    "\n",
    "\n",
    "print(f\"Logirstic regression CV accuracy score: {cv_results.mean():.3f}\")\n",
    "print(f\"Logirstic regression test accuracy score: {lr.fit(X_train, y_train).score(X_test, y_test):.3f}\")"
   ]
  },
  {
   "cell_type": "code",
   "execution_count": 19,
   "metadata": {},
   "outputs": [
    {
     "name": "stdout",
     "output_type": "stream",
     "text": [
      "Logirstic regression train accuracy score: 0.729\n"
     ]
    }
   ],
   "source": [
    "print(f\"Logirstic regression train accuracy score: {lr.score(X_train, y_train):.3f}\")"
   ]
  },
  {
   "cell_type": "code",
   "execution_count": 24,
   "metadata": {},
   "outputs": [],
   "source": [
    "def run_experiment(model, X_train, y_train, X_test, y_test):\n",
    "    cv_results = cross_val_score(model, X_train, y_train)\n",
    "    model.fit(X_train, y_train)\n",
    "    train_results = model.score(X_train, y_train)\n",
    "    test_results = model.score(X_test, y_test)\n",
    "    oob_results = None\n",
    "    try:\n",
    "        oob_results = model.oob_score_\n",
    "    except AttributeError:\n",
    "        pass\n",
    "    return cv_results.mean(), train_results, test_results, oob_results"
   ]
  },
  {
   "cell_type": "code",
   "execution_count": 33,
   "metadata": {},
   "outputs": [
    {
     "name": "stderr",
     "output_type": "stream",
     "text": [
      "100%|███████████████████████████████████████████| 20/20 [00:02<00:00,  8.43it/s]\n"
     ]
    }
   ],
   "source": [
    "num_trees_list = np.linspace(5, 25, 20).astype(int)\n",
    "cv_results_list, train_results_list, test_results_list, oob_results_list = [], [], [], []\n",
    "\n",
    "for n_estimators in tqdm(num_trees_list):\n",
    "    model = RandomForestClassifier(n_estimators=n_estimators, oob_score=True)\n",
    "    cv_results, train_results, test_results, oob_results = run_experiment(\n",
    "        model,\n",
    "        X_train,\n",
    "        y_train,\n",
    "        X_test,\n",
    "        y_test\n",
    "    )\n",
    "    cv_results_list.append(cv_results.mean())\n",
    "    train_results_list.append(train_results)\n",
    "    test_results_list.append(test_results)\n",
    "    oob_results_list.append(oob_results)"
   ]
  },
  {
   "cell_type": "code",
   "execution_count": 34,
   "metadata": {},
   "outputs": [
    {
     "data": {
      "text/plain": [
       "array([ 5,  6,  7,  8,  9, 10, 11, 12, 13, 14, 15, 16, 17, 18, 19, 20, 21,\n",
       "       22, 23, 25])"
      ]
     },
     "execution_count": 34,
     "metadata": {},
     "output_type": "execute_result"
    }
   ],
   "source": [
    "num_trees_list"
   ]
  },
  {
   "cell_type": "code",
   "execution_count": 35,
   "metadata": {},
   "outputs": [
    {
     "data": {
      "text/plain": [
       "<matplotlib.legend.Legend at 0x17a24bdf0>"
      ]
     },
     "execution_count": 35,
     "metadata": {},
     "output_type": "execute_result"
    },
    {
     "data": {
      "image/png": "[encoded data removed]",
      "text/plain": [
       "<Figure size 864x720 with 1 Axes>"
      ]
     },
     "metadata": {
      "needs_background": "light"
     },
     "output_type": "display_data"
    }
   ],
   "source": [
    "plt.figure(figsize=(12, 10))\n",
    "plt.plot(num_trees_list, cv_results_list, label='CV')\n",
    "plt.plot(num_trees_list, train_results_list, label='train')\n",
    "plt.plot(num_trees_list, test_results_list, label='test')\n",
    "plt.plot(num_trees_list, oob_results_list, label='oob')\n",
    "\n",
    "plt.grid()\n",
    "plt.legend()"
   ]
  },
  {
   "cell_type": "markdown",
   "metadata": {
    "id": "fYuI16uPJ4gf"
   },
   "source": [
    "### Out-of-bag error"
   ]
  },
  {
   "cell_type": "markdown",
   "metadata": {
    "id": "wMjk-JseJ4gf"
   },
   "source": [
    "<img src='https://github.com/girafe-ai/ml-course/blob/21f_basic/week0_05_trees_and_ensembles/img/oob.png?raw=1' width=700>"
   ]
  }
 ],
 "metadata": {
  "anaconda-cloud": {},
  "colab": {
   "name": "Copy of practice0_05_ensembles.ipynb",
   "provenance": []
  },
  "kernelspec": {
   "display_name": "Py3 Research",
   "language": "python",
   "name": "py3_research_kernel"
  },
  "language_info": {
   "codemirror_mode": {
    "name": "ipython",
    "version": 3
   },
   "file_extension": ".py",
   "mimetype": "text/x-python",
   "name": "python",
   "nbconvert_exporter": "python",
   "pygments_lexer": "ipython3",
   "version": "3.9.7"
  }
 },
 "nbformat": 4,
 "nbformat_minor": 1
}
