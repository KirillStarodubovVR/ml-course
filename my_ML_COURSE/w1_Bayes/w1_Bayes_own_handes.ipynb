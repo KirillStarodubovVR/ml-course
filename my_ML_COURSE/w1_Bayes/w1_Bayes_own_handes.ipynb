{
 "cells": [
  {
   "cell_type": "markdown",
   "metadata": {},
   "source": [
    "### Loading modules"
   ]
  },
  {
   "cell_type": "code",
   "execution_count": 105,
   "metadata": {},
   "outputs": [],
   "source": [
    "import numpy as np\n",
    "import pandas as pd\n",
    "import seaborn as sns\n",
    "import matplotlib.pyplot as plt\n",
    "import matplotlib\n",
    "from sklearn import datasets\n",
    "import sklearn\n",
    "import pprint\n",
    "import plotly.express as px\n",
    "import scipy"
   ]
  },
  {
   "attachments": {},
   "cell_type": "markdown",
   "metadata": {},
   "source": [
    "### Set the parameters of matplotlib"
   ]
  },
  {
   "cell_type": "code",
   "execution_count": 6,
   "metadata": {},
   "outputs": [],
   "source": [
    "matplotlib.rcParams['font.size'] = 12\n",
    "plt.style.use('dark_background')"
   ]
  },
  {
   "attachments": {},
   "cell_type": "markdown",
   "metadata": {},
   "source": [
    "### Load dataset"
   ]
  },
  {
   "cell_type": "code",
   "execution_count": 10,
   "metadata": {},
   "outputs": [],
   "source": [
    "dataset = datasets.load_iris()"
   ]
  },
  {
   "cell_type": "code",
   "execution_count": 18,
   "metadata": {},
   "outputs": [
    {
     "name": "stdout",
     "output_type": "stream",
     "text": [
      "data <class 'numpy.ndarray'>\n",
      "target <class 'numpy.ndarray'>\n",
      "frame <class 'NoneType'>\n",
      "target_names <class 'numpy.ndarray'>\n",
      "DESCR <class 'str'>\n",
      "feature_names <class 'list'>\n",
      "filename <class 'str'>\n",
      "data_module <class 'str'>\n"
     ]
    }
   ],
   "source": [
    "for elem in dataset.keys():\n",
    "    print(elem, type(dataset[elem]))"
   ]
  },
  {
   "cell_type": "code",
   "execution_count": 60,
   "metadata": {},
   "outputs": [
    {
     "data": {
      "text/html": [
       "<div>\n",
       "<style scoped>\n",
       "    .dataframe tbody tr th:only-of-type {\n",
       "        vertical-align: middle;\n",
       "    }\n",
       "\n",
       "    .dataframe tbody tr th {\n",
       "        vertical-align: top;\n",
       "    }\n",
       "\n",
       "    .dataframe thead th {\n",
       "        text-align: right;\n",
       "    }\n",
       "</style>\n",
       "<table border=\"1\" class=\"dataframe\">\n",
       "  <thead>\n",
       "    <tr style=\"text-align: right;\">\n",
       "      <th></th>\n",
       "      <th>sepal length (cm)</th>\n",
       "      <th>sepal width (cm)</th>\n",
       "      <th>petal length (cm)</th>\n",
       "      <th>petal width (cm)</th>\n",
       "      <th>ext_target</th>\n",
       "      <th>target_names</th>\n",
       "    </tr>\n",
       "  </thead>\n",
       "  <tbody>\n",
       "    <tr>\n",
       "      <th>0</th>\n",
       "      <td>5.1</td>\n",
       "      <td>3.5</td>\n",
       "      <td>1.4</td>\n",
       "      <td>0.2</td>\n",
       "      <td>0</td>\n",
       "      <td>setosa</td>\n",
       "    </tr>\n",
       "    <tr>\n",
       "      <th>1</th>\n",
       "      <td>4.9</td>\n",
       "      <td>3.0</td>\n",
       "      <td>1.4</td>\n",
       "      <td>0.2</td>\n",
       "      <td>0</td>\n",
       "      <td>setosa</td>\n",
       "    </tr>\n",
       "    <tr>\n",
       "      <th>2</th>\n",
       "      <td>4.7</td>\n",
       "      <td>3.2</td>\n",
       "      <td>1.3</td>\n",
       "      <td>0.2</td>\n",
       "      <td>0</td>\n",
       "      <td>setosa</td>\n",
       "    </tr>\n",
       "    <tr>\n",
       "      <th>3</th>\n",
       "      <td>4.6</td>\n",
       "      <td>3.1</td>\n",
       "      <td>1.5</td>\n",
       "      <td>0.2</td>\n",
       "      <td>0</td>\n",
       "      <td>setosa</td>\n",
       "    </tr>\n",
       "    <tr>\n",
       "      <th>4</th>\n",
       "      <td>5.0</td>\n",
       "      <td>3.6</td>\n",
       "      <td>1.4</td>\n",
       "      <td>0.2</td>\n",
       "      <td>0</td>\n",
       "      <td>setosa</td>\n",
       "    </tr>\n",
       "  </tbody>\n",
       "</table>\n",
       "</div>"
      ],
      "text/plain": [
       "  sepal length (cm) sepal width (cm) petal length (cm) petal width (cm)  \\\n",
       "0               5.1              3.5               1.4              0.2   \n",
       "1               4.9              3.0               1.4              0.2   \n",
       "2               4.7              3.2               1.3              0.2   \n",
       "3               4.6              3.1               1.5              0.2   \n",
       "4               5.0              3.6               1.4              0.2   \n",
       "\n",
       "  ext_target target_names  \n",
       "0          0       setosa  \n",
       "1          0       setosa  \n",
       "2          0       setosa  \n",
       "3          0       setosa  \n",
       "4          0       setosa  "
      ]
     },
     "execution_count": 60,
     "metadata": {},
     "output_type": "execute_result"
    }
   ],
   "source": [
    "ext_target = dataset.target[:, None]\n",
    "df = pd.DataFrame(np.concatenate((dataset.data, ext_target, dataset.target_names[ext_target]), axis=1), columns=dataset.feature_names + ['ext_target', 'target_names'])\n",
    "df.head()"
   ]
  },
  {
   "cell_type": "code",
   "execution_count": 107,
   "metadata": {},
   "outputs": [
    {
     "name": "stdout",
     "output_type": "stream",
     "text": [
      "(150, 4) (150,)\n"
     ]
    }
   ],
   "source": [
    "features = dataset.data\n",
    "target = dataset.target\n",
    "print(features.shape, target.shape)"
   ]
  },
  {
   "attachments": {},
   "cell_type": "markdown",
   "metadata": {},
   "source": [
    "### Visualise dataset"
   ]
  },
  {
   "cell_type": "code",
   "execution_count": 108,
   "metadata": {},
   "outputs": [
    {
     "data": {
      "image/png": "[encoded data removed]",
      "text/plain": [
       "<Figure size 700x700 with 1 Axes>"
      ]
     },
     "metadata": {},
     "output_type": "display_data"
    }
   ],
   "source": [
    "fig = plt.figure(figsize=(7,7))\n",
    "ax = fig.add_subplot(projection='3d')\n",
    "ax.scatter(features[:,0], features[:,1], features[:,2], c=ext_target)\n",
    "ax.set_xlabel(dataset.feature_names[0])\n",
    "ax.set_ylabel(dataset.feature_names[1])\n",
    "ax.set_zlabel(dataset.feature_names[2])\n",
    "ax.view_init(elev=20, azim=10, roll=0)\n",
    "plt.show(fig)\n",
    "\n"
   ]
  },
  {
   "cell_type": "code",
   "execution_count": 98,
   "metadata": {},
   "outputs": [
    {
     "data": {
      "application/vnd.plotly.v1+json": {
       "config": {
        "plotlyServerURL": "https://plot.ly"
       },
       "data": [
        {
         "hovertemplate": "target_names=setosa<br>sepal length (cm)=%{x}<br>sepal width (cm)=%{y}<br>petal width (cm)=%{z}<extra></extra>",
         "legendgroup": "setosa",
         "marker": {
          "color": "#636efa",
          "symbol": "circle"
         },
         "mode": "markers",
         "name": "setosa",
         "scene": "scene",
         "showlegend": true,
         "type": "scatter3d",
         "x": [
          "5.1",
          "4.9",
          "4.7",
          "4.6",
          "5.0",
          "5.4",
          "4.6",
          "5.0",
          "4.4",
          "4.9",
          "5.4",
          "4.8",
          "4.8",
          "4.3",
          "5.8",
          "5.7",
          "5.4",
          "5.1",
          "5.7",
          "5.1",
          "5.4",
          "5.1",
          "4.6",
          "5.1",
          "4.8",
          "5.0",
          "5.0",
          "5.2",
          "5.2",
          "4.7",
          "4.8",
          "5.4",
          "5.2",
          "5.5",
          "4.9",
          "5.0",
          "5.5",
          "4.9",
          "4.4",
          "5.1",
          "5.0",
          "4.5",
          "4.4",
          "5.0",
          "5.1",
          "4.8",
          "5.1",
          "4.6",
          "5.3",
          "5.0"
         ],
         "y": [
          "3.5",
          "3.0",
          "3.2",
          "3.1",
          "3.6",
          "3.9",
          "3.4",
          "3.4",
          "2.9",
          "3.1",
          "3.7",
          "3.4",
          "3.0",
          "3.0",
          "4.0",
          "4.4",
          "3.9",
          "3.5",
          "3.8",
          "3.8",
          "3.4",
          "3.7",
          "3.6",
          "3.3",
          "3.4",
          "3.0",
          "3.4",
          "3.5",
          "3.4",
          "3.2",
          "3.1",
          "3.4",
          "4.1",
          "4.2",
          "3.1",
          "3.2",
          "3.5",
          "3.6",
          "3.0",
          "3.4",
          "3.5",
          "2.3",
          "3.2",
          "3.5",
          "3.8",
          "3.0",
          "3.8",
          "3.2",
          "3.7",
          "3.3"
         ],
         "z": [
          "0.2",
          "0.2",
          "0.2",
          "0.2",
          "0.2",
          "0.4",
          "0.3",
          "0.2",
          "0.2",
          "0.1",
          "0.2",
          "0.2",
          "0.1",
          "0.1",
          "0.2",
          "0.4",
          "0.4",
          "0.3",
          "0.3",
          "0.3",
          "0.2",
          "0.4",
          "0.2",
          "0.5",
          "0.2",
          "0.2",
          "0.4",
          "0.2",
          "0.2",
          "0.2",
          "0.2",
          "0.4",
          "0.1",
          "0.2",
          "0.2",
          "0.2",
          "0.2",
          "0.1",
          "0.2",
          "0.2",
          "0.3",
          "0.3",
          "0.2",
          "0.6",
          "0.4",
          "0.3",
          "0.2",
          "0.2",
          "0.2",
          "0.2"
         ]
        },
        {
         "hovertemplate": "target_names=versicolor<br>sepal length (cm)=%{x}<br>sepal width (cm)=%{y}<br>petal width (cm)=%{z}<extra></extra>",
         "legendgroup": "versicolor",
         "marker": {
          "color": "#EF553B",
          "symbol": "circle"
         },
         "mode": "markers",
         "name": "versicolor",
         "scene": "scene",
         "showlegend": true,
         "type": "scatter3d",
         "x": [
          "7.0",
          "6.4",
          "6.9",
          "5.5",
          "6.5",
          "5.7",
          "6.3",
          "4.9",
          "6.6",
          "5.2",
          "5.0",
          "5.9",
          "6.0",
          "6.1",
          "5.6",
          "6.7",
          "5.6",
          "5.8",
          "6.2",
          "5.6",
          "5.9",
          "6.1",
          "6.3",
          "6.1",
          "6.4",
          "6.6",
          "6.8",
          "6.7",
          "6.0",
          "5.7",
          "5.5",
          "5.5",
          "5.8",
          "6.0",
          "5.4",
          "6.0",
          "6.7",
          "6.3",
          "5.6",
          "5.5",
          "5.5",
          "6.1",
          "5.8",
          "5.0",
          "5.6",
          "5.7",
          "5.7",
          "6.2",
          "5.1",
          "5.7"
         ],
         "y": [
          "3.2",
          "3.2",
          "3.1",
          "2.3",
          "2.8",
          "2.8",
          "3.3",
          "2.4",
          "2.9",
          "2.7",
          "2.0",
          "3.0",
          "2.2",
          "2.9",
          "2.9",
          "3.1",
          "3.0",
          "2.7",
          "2.2",
          "2.5",
          "3.2",
          "2.8",
          "2.5",
          "2.8",
          "2.9",
          "3.0",
          "2.8",
          "3.0",
          "2.9",
          "2.6",
          "2.4",
          "2.4",
          "2.7",
          "2.7",
          "3.0",
          "3.4",
          "3.1",
          "2.3",
          "3.0",
          "2.5",
          "2.6",
          "3.0",
          "2.6",
          "2.3",
          "2.7",
          "3.0",
          "2.9",
          "2.9",
          "2.5",
          "2.8"
         ],
         "z": [
          "1.4",
          "1.5",
          "1.5",
          "1.3",
          "1.5",
          "1.3",
          "1.6",
          "1.0",
          "1.3",
          "1.4",
          "1.0",
          "1.5",
          "1.0",
          "1.4",
          "1.3",
          "1.4",
          "1.5",
          "1.0",
          "1.5",
          "1.1",
          "1.8",
          "1.3",
          "1.5",
          "1.2",
          "1.3",
          "1.4",
          "1.4",
          "1.7",
          "1.5",
          "1.0",
          "1.1",
          "1.0",
          "1.2",
          "1.6",
          "1.5",
          "1.6",
          "1.5",
          "1.3",
          "1.3",
          "1.3",
          "1.2",
          "1.4",
          "1.2",
          "1.0",
          "1.3",
          "1.2",
          "1.3",
          "1.3",
          "1.1",
          "1.3"
         ]
        },
        {
         "hovertemplate": "target_names=virginica<br>sepal length (cm)=%{x}<br>sepal width (cm)=%{y}<br>petal width (cm)=%{z}<extra></extra>",
         "legendgroup": "virginica",
         "marker": {
          "color": "#00cc96",
          "symbol": "circle"
         },
         "mode": "markers",
         "name": "virginica",
         "scene": "scene",
         "showlegend": true,
         "type": "scatter3d",
         "x": [
          "6.3",
          "5.8",
          "7.1",
          "6.3",
          "6.5",
          "7.6",
          "4.9",
          "7.3",
          "6.7",
          "7.2",
          "6.5",
          "6.4",
          "6.8",
          "5.7",
          "5.8",
          "6.4",
          "6.5",
          "7.7",
          "7.7",
          "6.0",
          "6.9",
          "5.6",
          "7.7",
          "6.3",
          "6.7",
          "7.2",
          "6.2",
          "6.1",
          "6.4",
          "7.2",
          "7.4",
          "7.9",
          "6.4",
          "6.3",
          "6.1",
          "7.7",
          "6.3",
          "6.4",
          "6.0",
          "6.9",
          "6.7",
          "6.9",
          "5.8",
          "6.8",
          "6.7",
          "6.7",
          "6.3",
          "6.5",
          "6.2",
          "5.9"
         ],
         "y": [
          "3.3",
          "2.7",
          "3.0",
          "2.9",
          "3.0",
          "3.0",
          "2.5",
          "2.9",
          "2.5",
          "3.6",
          "3.2",
          "2.7",
          "3.0",
          "2.5",
          "2.8",
          "3.2",
          "3.0",
          "3.8",
          "2.6",
          "2.2",
          "3.2",
          "2.8",
          "2.8",
          "2.7",
          "3.3",
          "3.2",
          "2.8",
          "3.0",
          "2.8",
          "3.0",
          "2.8",
          "3.8",
          "2.8",
          "2.8",
          "2.6",
          "3.0",
          "3.4",
          "3.1",
          "3.0",
          "3.1",
          "3.1",
          "3.1",
          "2.7",
          "3.2",
          "3.3",
          "3.0",
          "2.5",
          "3.0",
          "3.4",
          "3.0"
         ],
         "z": [
          "2.5",
          "1.9",
          "2.1",
          "1.8",
          "2.2",
          "2.1",
          "1.7",
          "1.8",
          "1.8",
          "2.5",
          "2.0",
          "1.9",
          "2.1",
          "2.0",
          "2.4",
          "2.3",
          "1.8",
          "2.2",
          "2.3",
          "1.5",
          "2.3",
          "2.0",
          "2.0",
          "1.8",
          "2.1",
          "1.8",
          "1.8",
          "1.8",
          "2.1",
          "1.6",
          "1.9",
          "2.0",
          "2.2",
          "1.5",
          "1.4",
          "2.3",
          "2.4",
          "1.8",
          "1.8",
          "2.1",
          "2.4",
          "2.3",
          "1.9",
          "2.3",
          "2.5",
          "2.3",
          "1.9",
          "2.0",
          "2.3",
          "1.8"
         ]
        }
       ],
       "layout": {
        "legend": {
         "title": {
          "text": "target_names"
         },
         "tracegroupgap": 0
        },
        "margin": {
         "t": 60
        },
        "scene": {
         "domain": {
          "x": [
           0,
           1
          ],
          "y": [
           0,
           1
          ]
         },
         "xaxis": {
          "title": {
           "text": "sepal length (cm)"
          }
         },
         "yaxis": {
          "title": {
           "text": "sepal width (cm)"
          }
         },
         "zaxis": {
          "title": {
           "text": "petal width (cm)"
          }
         }
        },
        "template": {
         "data": {
          "bar": [
           {
            "error_x": {
             "color": "#2a3f5f"
            },
            "error_y": {
             "color": "#2a3f5f"
            },
            "marker": {
             "line": {
              "color": "#E5ECF6",
              "width": 0.5
             },
             "pattern": {
              "fillmode": "overlay",
              "size": 10,
              "solidity": 0.2
             }
            },
            "type": "bar"
           }
          ],
          "barpolar": [
           {
            "marker": {
             "line": {
              "color": "#E5ECF6",
              "width": 0.5
             },
             "pattern": {
              "fillmode": "overlay",
              "size": 10,
              "solidity": 0.2
             }
            },
            "type": "barpolar"
           }
          ],
          "carpet": [
           {
            "aaxis": {
             "endlinecolor": "#2a3f5f",
             "gridcolor": "white",
             "linecolor": "white",
             "minorgridcolor": "white",
             "startlinecolor": "#2a3f5f"
            },
            "baxis": {
             "endlinecolor": "#2a3f5f",
             "gridcolor": "white",
             "linecolor": "white",
             "minorgridcolor": "white",
             "startlinecolor": "#2a3f5f"
            },
            "type": "carpet"
           }
          ],
          "choropleth": [
           {
            "colorbar": {
             "outlinewidth": 0,
             "ticks": ""
            },
            "type": "choropleth"
           }
          ],
          "contour": [
           {
            "colorbar": {
             "outlinewidth": 0,
             "ticks": ""
            },
            "colorscale": [
             [
              0,
              "#0d0887"
             ],
             [
              0.1111111111111111,
              "#46039f"
             ],
             [
              0.2222222222222222,
              "#7201a8"
             ],
             [
              0.3333333333333333,
              "#9c179e"
             ],
             [
              0.4444444444444444,
              "#bd3786"
             ],
             [
              0.5555555555555556,
              "#d8576b"
             ],
             [
              0.6666666666666666,
              "#ed7953"
             ],
             [
              0.7777777777777778,
              "#fb9f3a"
             ],
             [
              0.8888888888888888,
              "#fdca26"
             ],
             [
              1,
              "#f0f921"
             ]
            ],
            "type": "contour"
           }
          ],
          "contourcarpet": [
           {
            "colorbar": {
             "outlinewidth": 0,
             "ticks": ""
            },
            "type": "contourcarpet"
           }
          ],
          "heatmap": [
           {
            "colorbar": {
             "outlinewidth": 0,
             "ticks": ""
            },
            "colorscale": [
             [
              0,
              "#0d0887"
             ],
             [
              0.1111111111111111,
              "#46039f"
             ],
             [
              0.2222222222222222,
              "#7201a8"
             ],
             [
              0.3333333333333333,
              "#9c179e"
             ],
             [
              0.4444444444444444,
              "#bd3786"
             ],
             [
              0.5555555555555556,
              "#d8576b"
             ],
             [
              0.6666666666666666,
              "#ed7953"
             ],
             [
              0.7777777777777778,
              "#fb9f3a"
             ],
             [
              0.8888888888888888,
              "#fdca26"
             ],
             [
              1,
              "#f0f921"
             ]
            ],
            "type": "heatmap"
           }
          ],
          "heatmapgl": [
           {
            "colorbar": {
             "outlinewidth": 0,
             "ticks": ""
            },
            "colorscale": [
             [
              0,
              "#0d0887"
             ],
             [
              0.1111111111111111,
              "#46039f"
             ],
             [
              0.2222222222222222,
              "#7201a8"
             ],
             [
              0.3333333333333333,
              "#9c179e"
             ],
             [
              0.4444444444444444,
              "#bd3786"
             ],
             [
              0.5555555555555556,
              "#d8576b"
             ],
             [
              0.6666666666666666,
              "#ed7953"
             ],
             [
              0.7777777777777778,
              "#fb9f3a"
             ],
             [
              0.8888888888888888,
              "#fdca26"
             ],
             [
              1,
              "#f0f921"
             ]
            ],
            "type": "heatmapgl"
           }
          ],
          "histogram": [
           {
            "marker": {
             "pattern": {
              "fillmode": "overlay",
              "size": 10,
              "solidity": 0.2
             }
            },
            "type": "histogram"
           }
          ],
          "histogram2d": [
           {
            "colorbar": {
             "outlinewidth": 0,
             "ticks": ""
            },
            "colorscale": [
             [
              0,
              "#0d0887"
             ],
             [
              0.1111111111111111,
              "#46039f"
             ],
             [
              0.2222222222222222,
              "#7201a8"
             ],
             [
              0.3333333333333333,
              "#9c179e"
             ],
             [
              0.4444444444444444,
              "#bd3786"
             ],
             [
              0.5555555555555556,
              "#d8576b"
             ],
             [
              0.6666666666666666,
              "#ed7953"
             ],
             [
              0.7777777777777778,
              "#fb9f3a"
             ],
             [
              0.8888888888888888,
              "#fdca26"
             ],
             [
              1,
              "#f0f921"
             ]
            ],
            "type": "histogram2d"
           }
          ],
          "histogram2dcontour": [
           {
            "colorbar": {
             "outlinewidth": 0,
             "ticks": ""
            },
            "colorscale": [
             [
              0,
              "#0d0887"
             ],
             [
              0.1111111111111111,
              "#46039f"
             ],
             [
              0.2222222222222222,
              "#7201a8"
             ],
             [
              0.3333333333333333,
              "#9c179e"
             ],
             [
              0.4444444444444444,
              "#bd3786"
             ],
             [
              0.5555555555555556,
              "#d8576b"
             ],
             [
              0.6666666666666666,
              "#ed7953"
             ],
             [
              0.7777777777777778,
              "#fb9f3a"
             ],
             [
              0.8888888888888888,
              "#fdca26"
             ],
             [
              1,
              "#f0f921"
             ]
            ],
            "type": "histogram2dcontour"
           }
          ],
          "mesh3d": [
           {
            "colorbar": {
             "outlinewidth": 0,
             "ticks": ""
            },
            "type": "mesh3d"
           }
          ],
          "parcoords": [
           {
            "line": {
             "colorbar": {
              "outlinewidth": 0,
              "ticks": ""
             }
            },
            "type": "parcoords"
           }
          ],
          "pie": [
           {
            "automargin": true,
            "type": "pie"
           }
          ],
          "scatter": [
           {
            "fillpattern": {
             "fillmode": "overlay",
             "size": 10,
             "solidity": 0.2
            },
            "type": "scatter"
           }
          ],
          "scatter3d": [
           {
            "line": {
             "colorbar": {
              "outlinewidth": 0,
              "ticks": ""
             }
            },
            "marker": {
             "colorbar": {
              "outlinewidth": 0,
              "ticks": ""
             }
            },
            "type": "scatter3d"
           }
          ],
          "scattercarpet": [
           {
            "marker": {
             "colorbar": {
              "outlinewidth": 0,
              "ticks": ""
             }
            },
            "type": "scattercarpet"
           }
          ],
          "scattergeo": [
           {
            "marker": {
             "colorbar": {
              "outlinewidth": 0,
              "ticks": ""
             }
            },
            "type": "scattergeo"
           }
          ],
          "scattergl": [
           {
            "marker": {
             "colorbar": {
              "outlinewidth": 0,
              "ticks": ""
             }
            },
            "type": "scattergl"
           }
          ],
          "scattermapbox": [
           {
            "marker": {
             "colorbar": {
              "outlinewidth": 0,
              "ticks": ""
             }
            },
            "type": "scattermapbox"
           }
          ],
          "scatterpolar": [
           {
            "marker": {
             "colorbar": {
              "outlinewidth": 0,
              "ticks": ""
             }
            },
            "type": "scatterpolar"
           }
          ],
          "scatterpolargl": [
           {
            "marker": {
             "colorbar": {
              "outlinewidth": 0,
              "ticks": ""
             }
            },
            "type": "scatterpolargl"
           }
          ],
          "scatterternary": [
           {
            "marker": {
             "colorbar": {
              "outlinewidth": 0,
              "ticks": ""
             }
            },
            "type": "scatterternary"
           }
          ],
          "surface": [
           {
            "colorbar": {
             "outlinewidth": 0,
             "ticks": ""
            },
            "colorscale": [
             [
              0,
              "#0d0887"
             ],
             [
              0.1111111111111111,
              "#46039f"
             ],
             [
              0.2222222222222222,
              "#7201a8"
             ],
             [
              0.3333333333333333,
              "#9c179e"
             ],
             [
              0.4444444444444444,
              "#bd3786"
             ],
             [
              0.5555555555555556,
              "#d8576b"
             ],
             [
              0.6666666666666666,
              "#ed7953"
             ],
             [
              0.7777777777777778,
              "#fb9f3a"
             ],
             [
              0.8888888888888888,
              "#fdca26"
             ],
             [
              1,
              "#f0f921"
             ]
            ],
            "type": "surface"
           }
          ],
          "table": [
           {
            "cells": {
             "fill": {
              "color": "#EBF0F8"
             },
             "line": {
              "color": "white"
             }
            },
            "header": {
             "fill": {
              "color": "#C8D4E3"
             },
             "line": {
              "color": "white"
             }
            },
            "type": "table"
           }
          ]
         },
         "layout": {
          "annotationdefaults": {
           "arrowcolor": "#2a3f5f",
           "arrowhead": 0,
           "arrowwidth": 1
          },
          "autotypenumbers": "strict",
          "coloraxis": {
           "colorbar": {
            "outlinewidth": 0,
            "ticks": ""
           }
          },
          "colorscale": {
           "diverging": [
            [
             0,
             "#8e0152"
            ],
            [
             0.1,
             "#c51b7d"
            ],
            [
             0.2,
             "#de77ae"
            ],
            [
             0.3,
             "#f1b6da"
            ],
            [
             0.4,
             "#fde0ef"
            ],
            [
             0.5,
             "#f7f7f7"
            ],
            [
             0.6,
             "#e6f5d0"
            ],
            [
             0.7,
             "#b8e186"
            ],
            [
             0.8,
             "#7fbc41"
            ],
            [
             0.9,
             "#4d9221"
            ],
            [
             1,
             "#276419"
            ]
           ],
           "sequential": [
            [
             0,
             "#0d0887"
            ],
            [
             0.1111111111111111,
             "#46039f"
            ],
            [
             0.2222222222222222,
             "#7201a8"
            ],
            [
             0.3333333333333333,
             "#9c179e"
            ],
            [
             0.4444444444444444,
             "#bd3786"
            ],
            [
             0.5555555555555556,
             "#d8576b"
            ],
            [
             0.6666666666666666,
             "#ed7953"
            ],
            [
             0.7777777777777778,
             "#fb9f3a"
            ],
            [
             0.8888888888888888,
             "#fdca26"
            ],
            [
             1,
             "#f0f921"
            ]
           ],
           "sequentialminus": [
            [
             0,
             "#0d0887"
            ],
            [
             0.1111111111111111,
             "#46039f"
            ],
            [
             0.2222222222222222,
             "#7201a8"
            ],
            [
             0.3333333333333333,
             "#9c179e"
            ],
            [
             0.4444444444444444,
             "#bd3786"
            ],
            [
             0.5555555555555556,
             "#d8576b"
            ],
            [
             0.6666666666666666,
             "#ed7953"
            ],
            [
             0.7777777777777778,
             "#fb9f3a"
            ],
            [
             0.8888888888888888,
             "#fdca26"
            ],
            [
             1,
             "#f0f921"
            ]
           ]
          },
          "colorway": [
           "#636efa",
           "#EF553B",
           "#00cc96",
           "#ab63fa",
           "#FFA15A",
           "#19d3f3",
           "#FF6692",
           "#B6E880",
           "#FF97FF",
           "#FECB52"
          ],
          "font": {
           "color": "#2a3f5f"
          },
          "geo": {
           "bgcolor": "white",
           "lakecolor": "white",
           "landcolor": "#E5ECF6",
           "showlakes": true,
           "showland": true,
           "subunitcolor": "white"
          },
          "hoverlabel": {
           "align": "left"
          },
          "hovermode": "closest",
          "mapbox": {
           "style": "light"
          },
          "paper_bgcolor": "white",
          "plot_bgcolor": "#E5ECF6",
          "polar": {
           "angularaxis": {
            "gridcolor": "white",
            "linecolor": "white",
            "ticks": ""
           },
           "bgcolor": "#E5ECF6",
           "radialaxis": {
            "gridcolor": "white",
            "linecolor": "white",
            "ticks": ""
           }
          },
          "scene": {
           "xaxis": {
            "backgroundcolor": "#E5ECF6",
            "gridcolor": "white",
            "gridwidth": 2,
            "linecolor": "white",
            "showbackground": true,
            "ticks": "",
            "zerolinecolor": "white"
           },
           "yaxis": {
            "backgroundcolor": "#E5ECF6",
            "gridcolor": "white",
            "gridwidth": 2,
            "linecolor": "white",
            "showbackground": true,
            "ticks": "",
            "zerolinecolor": "white"
           },
           "zaxis": {
            "backgroundcolor": "#E5ECF6",
            "gridcolor": "white",
            "gridwidth": 2,
            "linecolor": "white",
            "showbackground": true,
            "ticks": "",
            "zerolinecolor": "white"
           }
          },
          "shapedefaults": {
           "line": {
            "color": "#2a3f5f"
           }
          },
          "ternary": {
           "aaxis": {
            "gridcolor": "white",
            "linecolor": "white",
            "ticks": ""
           },
           "baxis": {
            "gridcolor": "white",
            "linecolor": "white",
            "ticks": ""
           },
           "bgcolor": "#E5ECF6",
           "caxis": {
            "gridcolor": "white",
            "linecolor": "white",
            "ticks": ""
           }
          },
          "title": {
           "x": 0.05
          },
          "xaxis": {
           "automargin": true,
           "gridcolor": "white",
           "linecolor": "white",
           "ticks": "",
           "title": {
            "standoff": 15
           },
           "zerolinecolor": "white",
           "zerolinewidth": 2
          },
          "yaxis": {
           "automargin": true,
           "gridcolor": "white",
           "linecolor": "white",
           "ticks": "",
           "title": {
            "standoff": 15
           },
           "zerolinecolor": "white",
           "zerolinewidth": 2
          }
         }
        }
       }
      }
     },
     "metadata": {},
     "output_type": "display_data"
    },
    {
     "data": {
      "text/plain": [
       "<Figure size 700x700 with 0 Axes>"
      ]
     },
     "metadata": {},
     "output_type": "display_data"
    }
   ],
   "source": [
    "fig = plt.figure(figsize=(7,7))\n",
    "fig = px.scatter_3d(df, x='sepal length (cm)', y='sepal width (cm)', z='petal width (cm)', color='target_names')\n",
    "fig.show()"
   ]
  },
  {
   "cell_type": "markdown",
   "metadata": {},
   "source": [
    "### Feature distribution"
   ]
  },
  {
   "cell_type": "code",
   "execution_count": 103,
   "metadata": {},
   "outputs": [
    {
     "data": {
      "image/png": "[encoded data removed]",
      "text/plain": [
       "<Figure size 1500x1000 with 4 Axes>"
      ]
     },
     "metadata": {},
     "output_type": "display_data"
    }
   ],
   "source": [
    "fig, axes = plt.subplots(2, 2, figsize=(15, 10))\n",
    "\n",
    "for i, axis in enumerate(axes.flat):\n",
    "    axis.hist(features[:, i], bins=9)\n",
    "    axis.set_xlabel(dataset.feature_names[i])\n",
    "    axis.set_ylabel('number of objects')"
   ]
  },
  {
   "cell_type": "markdown",
   "metadata": {},
   "source": [
    "### Classifier based on the normal distribution (Gaussian Distribution)"
   ]
  },
  {
   "attachments": {},
   "cell_type": "markdown",
   "metadata": {},
   "source": [
    "$$\n",
    "f(x, \\sigma, \\mu) = \\frac{1}{\\sqrt{2 \\cdot \\pi} \\cdot \\sigma} \\cdot \\exp(-\\frac{(x - \\mu)^2}{2 \\cdot \\sigma^2})\n",
    "$$\n",
    "After logarithm function of PDF we get following equation\n",
    "$$\n",
    "-0.5\\cdot(2\\cdot\\pi\\cdot\\sigma^2) - \\frac{(x - \\mu)^2}{2\\cdot\\sigma^2}  \n",
    "$$"
   ]
  },
  {
   "cell_type": "code",
   "execution_count": 128,
   "metadata": {},
   "outputs": [],
   "source": [
    "class GaussianDistribution:\n",
    "    def __init__(self, feature):\n",
    "        \"\"\"\n",
    "        Args:\n",
    "            feature: column of design matrix, represents all available values\n",
    "            of features in axis=0 direction\n",
    "        \"\"\"\n",
    "        self.mean = np.mean(feature, axis=0)\n",
    "        self.std = np.std(feature, axis=0)\n",
    "\n",
    "    def logpdf(self, value):\n",
    "        \"\"\"Logarithm of probability density function at value\"\"\"\n",
    "        return -0.5 * np.log((2 * np.pi * self.std**2)) - (value - self.mean)**2 / (2 * self.std**2)\n",
    "\n",
    "    def pdf(self, value):\n",
    "        return np.exp(self.logpdf(value))\n",
    "\n",
    "        "
   ]
  },
  {
   "cell_type": "code",
   "execution_count": 131,
   "metadata": {},
   "outputs": [
    {
     "data": {
      "text/plain": [
       "True"
      ]
     },
     "execution_count": 131,
     "metadata": {},
     "output_type": "execute_result"
    }
   ],
   "source": [
    "_test1 = scipy.stats.norm(loc=features[:, :2].mean(axis=0), scale=features[:, :2].std(axis=0))\n",
    "\n",
    "_test2 = GaussianDistribution(features[:, :2])\n",
    "\n",
    "\n",
    "np.allclose(_test2.logpdf(features[:5,:2]), _test1.logpdf(features[:5,:2]))"
   ]
  },
  {
   "cell_type": "code",
   "execution_count": null,
   "metadata": {},
   "outputs": [],
   "source": []
  },
  {
   "cell_type": "code",
   "execution_count": null,
   "metadata": {},
   "outputs": [],
   "source": []
  },
  {
   "cell_type": "code",
   "execution_count": null,
   "metadata": {},
   "outputs": [],
   "source": []
  },
  {
   "cell_type": "code",
   "execution_count": null,
   "metadata": {},
   "outputs": [],
   "source": []
  }
 ],
 "metadata": {
  "kernelspec": {
   "display_name": "ml_venv",
   "language": "python",
   "name": "python3"
  },
  "language_info": {
   "codemirror_mode": {
    "name": "ipython",
    "version": 3
   },
   "file_extension": ".py",
   "mimetype": "text/x-python",
   "name": "python",
   "nbconvert_exporter": "python",
   "pygments_lexer": "ipython3",
   "version": "3.11.1"
  },
  "orig_nbformat": 4,
  "vscode": {
   "interpreter": {
    "hash": "602538ec380bee7f30cf60ab9cd975200dbef82db9956ec553e95c0b26708ef7"
   }
  }
 },
 "nbformat": 4,
 "nbformat_minor": 2
}
