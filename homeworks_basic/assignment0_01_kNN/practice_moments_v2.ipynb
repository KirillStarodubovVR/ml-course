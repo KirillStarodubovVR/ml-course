{
 "cells": [
  {
   "cell_type": "code",
   "execution_count": 1,
   "metadata": {},
   "outputs": [],
   "source": [
    "import numpy as np\n",
    "import math\n",
    "import scipy as sp"
   ]
  },
  {
   "cell_type": "code",
   "execution_count": 107,
   "metadata": {},
   "outputs": [
    {
     "name": "stdout",
     "output_type": "stream",
     "text": [
      "test \n",
      " [[6 1 8 2]\n",
      " [5 0 7 4]\n",
      " [2 5 7 2]\n",
      " [7 4 3 8]] (4, 4) \n",
      "\n",
      "train \n",
      " [[7 9 1 8]\n",
      " [8 5 4 2]\n",
      " [7 4 8 4]\n",
      " [2 7 8 6]] (4, 4) \n",
      "\n"
     ]
    }
   ],
   "source": [
    "test = np.random.randint(0, 10, size=(4, 4))\n",
    "train = np.random.randint(0, 10, size=(4, 4))\n",
    "\n",
    "print('test', '\\n', test, test.shape, '\\n')\n",
    "print('train', '\\n', train, train.shape, '\\n')"
   ]
  },
  {
   "attachments": {},
   "cell_type": "markdown",
   "metadata": {},
   "source": [
    "### Three loop\n",
    "$\n",
    "    dist_{ij} = \\sqrt{\\sum_{k=1}^{d}(X_{mk} - Y_{nk})^2} | \n",
    "    dist_{ij} = \\sqrt{\\sum_{k=1}^{d}(test_{mk} - train_{nk})^2}\n",
    "$\n"
   ]
  },
  {
   "cell_type": "code",
   "execution_count": 108,
   "metadata": {},
   "outputs": [
    {
     "ename": "SyntaxError",
     "evalue": "incomplete input (1840496215.py, line 65)",
     "output_type": "error",
     "traceback": [
      "\u001b[1;36m  Cell \u001b[1;32mIn[108], line 65\u001b[1;36m\u001b[0m\n\u001b[1;33m    \u001b[0m\n\u001b[1;37m    ^\u001b[0m\n\u001b[1;31mSyntaxError\u001b[0m\u001b[1;31m:\u001b[0m incomplete input\n"
     ]
    }
   ],
   "source": [
    "def dist_3l(test, train):\n",
    "    # m->i, n->j, d->k\n",
    "    m, d = test.shape\n",
    "    n, d = train.shape\n",
    "    # print(test.shape, i, k)\n",
    "    # print(train.shape,j, k)\n",
    "\n",
    "    dists = np.zeros((m, n))\n",
    "\n",
    "    for i in range(m):\n",
    "        for j in range(n):\n",
    "            val = 0\n",
    "            for k in range(d):\n",
    "                val += (test[i][k] - train[j][k])**2\n",
    "            dists[i][j] = np.sqrt(val)\n",
    "    \n",
    "    return dists\n",
    "\n",
    "def dist_2l(test, train):\n",
    "    # m->i, n->j, d->k\n",
    "    m, d = test.shape\n",
    "    n, d = train.shape\n",
    "    # print(test.shape, i, k)\n",
    "    # print(train.shape,j, k)\n",
    "\n",
    "    dists = np.zeros((m, n))\n",
    "\n",
    "    for i in range(m):\n",
    "        for j in range(n):\n",
    "            dists[i, j] = np.sqrt(np.sum(np.square(test[i] - train[j])))\n",
    "\n",
    "    return dists\n",
    "\n",
    "def dist_1l(test, train):\n",
    "    # m->i, n->j, d->k\n",
    "    m, d = test.shape\n",
    "    n, d = train.shape\n",
    "    # print(test.shape, i, k)\n",
    "    # print(train.shape,j, k)\n",
    "\n",
    "    dists = np.zeros((m, n))\n",
    "\n",
    "    for i in range(m):\n",
    "        dists[i, :] = np.sqrt(np.sum(np.square(test[i] - train), axis=1))\n",
    "\n",
    "    return dists\n",
    "\n",
    "def dist_0l(test, train):\n",
    "    # m->i, n->j, d->k\n",
    "    m, d = test.shape\n",
    "    n, d = train.shape\n",
    "    # print(test.shape, i, k)\n",
    "    # print(train.shape,j, k)\n",
    "\n",
    "    dists = np.zeros((m, n))\n",
    "\n",
    "    dists = np.sqrt(np.sum(np.square(test), axis=1).reshape(-1, 1)\n",
    "     - 2*np.dot(test, train.T)\n",
    "      + np.sum(np.square(train), axis=1))\n",
    "\n",
    "    return dists\n",
    "\n",
    "def predict_labels(dists, k, y_label):\n",
    "    pass\n",
    "\n",
    "\n"
   ]
  },
  {
   "cell_type": "code",
   "execution_count": 109,
   "metadata": {},
   "outputs": [
    {
     "data": {
      "text/plain": [
       "array([[12.24744871,  6.        ,  3.74165739,  8.24621125],\n",
       "       [11.70469991,  6.8556546 ,  4.58257569,  7.93725393],\n",
       "       [10.63014581,  6.70820393,  5.56776436,  4.58257569],\n",
       "       [ 5.38516481,  6.244998  ,  6.40312424,  7.93725393]])"
      ]
     },
     "execution_count": 109,
     "metadata": {},
     "output_type": "execute_result"
    }
   ],
   "source": [
    "dists = dist_3l(test, train)\n",
    "dists"
   ]
  },
  {
   "cell_type": "code",
   "execution_count": 110,
   "metadata": {},
   "outputs": [
    {
     "data": {
      "text/plain": [
       "array([[12.24744871,  6.        ,  3.74165739,  8.24621125],\n",
       "       [11.70469991,  6.8556546 ,  4.58257569,  7.93725393],\n",
       "       [10.63014581,  6.70820393,  5.56776436,  4.58257569],\n",
       "       [ 5.38516481,  6.244998  ,  6.40312424,  7.93725393]])"
      ]
     },
     "execution_count": 110,
     "metadata": {},
     "output_type": "execute_result"
    }
   ],
   "source": [
    "dists = dist_2l(test, train)\n",
    "dists"
   ]
  },
  {
   "cell_type": "code",
   "execution_count": 111,
   "metadata": {},
   "outputs": [
    {
     "data": {
      "text/plain": [
       "array([[12.24744871,  6.        ,  3.74165739,  8.24621125],\n",
       "       [11.70469991,  6.8556546 ,  4.58257569,  7.93725393],\n",
       "       [10.63014581,  6.70820393,  5.56776436,  4.58257569],\n",
       "       [ 5.38516481,  6.244998  ,  6.40312424,  7.93725393]])"
      ]
     },
     "execution_count": 111,
     "metadata": {},
     "output_type": "execute_result"
    }
   ],
   "source": [
    "dists = dist_1l(test, train)\n",
    "dists"
   ]
  },
  {
   "cell_type": "code",
   "execution_count": 112,
   "metadata": {},
   "outputs": [
    {
     "data": {
      "text/plain": [
       "array([[12.24744871,  6.        ,  3.74165739,  8.24621125],\n",
       "       [11.70469991,  6.8556546 ,  4.58257569,  7.93725393],\n",
       "       [10.63014581,  6.70820393,  5.56776436,  4.58257569],\n",
       "       [ 5.38516481,  6.244998  ,  6.40312424,  7.93725393]])"
      ]
     },
     "execution_count": 112,
     "metadata": {},
     "output_type": "execute_result"
    }
   ],
   "source": [
    "dists = dist_0l(test, train)\n",
    "dists"
   ]
  },
  {
   "cell_type": "code",
   "execution_count": 113,
   "metadata": {},
   "outputs": [
    {
     "name": "stdout",
     "output_type": "stream",
     "text": [
      "[[6 1 8 2]\n",
      " [5 0 7 4]\n",
      " [2 5 7 2]\n",
      " [7 4 3 8]]\n",
      "\n",
      "[[7 9 1 8]\n",
      " [8 5 4 2]\n",
      " [7 4 8 4]\n",
      " [2 7 8 6]]\n",
      "\n"
     ]
    }
   ],
   "source": [
    "print(test, end='\\n\\n')\n",
    "print(train, end='\\n\\n')"
   ]
  },
  {
   "cell_type": "code",
   "execution_count": 145,
   "metadata": {},
   "outputs": [
    {
     "name": "stdout",
     "output_type": "stream",
     "text": [
      "[0 4 1 1 3 0 4 4 0 2 4 2 3 0 2 1 2 2 3 2]\n",
      "[4 3 6 3 4]\n"
     ]
    },
    {
     "data": {
      "text/plain": [
       "2"
      ]
     },
     "execution_count": 145,
     "metadata": {},
     "output_type": "execute_result"
    }
   ],
   "source": [
    "t = np.random.randint(0, 5, (20,))\n",
    "print(t)\n",
    "counts = np.bincount(t)\n",
    "print(counts)\n",
    "np.argmax(counts)"
   ]
  },
  {
   "cell_type": "code",
   "execution_count": 151,
   "metadata": {},
   "outputs": [
    {
     "name": "stdout",
     "output_type": "stream",
     "text": [
      "[0 1 2 3 4] [4 3 6 3 4]\n",
      "2\n"
     ]
    }
   ],
   "source": [
    "unique, unique_counts = np.unique(t, return_counts=True)\n",
    "print(unique, unique_counts)\n",
    "arg_max = np.argmax(unique_counts)\n",
    "print(unique[arg_max])"
   ]
  }
 ],
 "metadata": {
  "kernelspec": {
   "display_name": "ml_venv",
   "language": "python",
   "name": "python3"
  },
  "language_info": {
   "codemirror_mode": {
    "name": "ipython",
    "version": 3
   },
   "file_extension": ".py",
   "mimetype": "text/x-python",
   "name": "python",
   "nbconvert_exporter": "python",
   "pygments_lexer": "ipython3",
   "version": "3.11.1"
  },
  "orig_nbformat": 4,
  "vscode": {
   "interpreter": {
    "hash": "602538ec380bee7f30cf60ab9cd975200dbef82db9956ec553e95c0b26708ef7"
   }
  }
 },
 "nbformat": 4,
 "nbformat_minor": 2
}
