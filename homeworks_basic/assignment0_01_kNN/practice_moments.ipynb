{
 "cells": [
  {
   "cell_type": "code",
   "execution_count": 1,
   "metadata": {},
   "outputs": [],
   "source": [
    "import numpy as np\n",
    "import math"
   ]
  },
  {
   "cell_type": "code",
   "execution_count": 5,
   "metadata": {},
   "outputs": [
    {
     "name": "stdout",
     "output_type": "stream",
     "text": [
      "[[3 5 7]\n",
      " [0 3 2]\n",
      " [0 6 7]] (3, 3) \n",
      "\n",
      "[[0 0 8]\n",
      " [7 4 4]\n",
      " [8 1 8]] (3, 3) \n",
      "\n"
     ]
    }
   ],
   "source": [
    "test = np.random.randint(0, 10, size=(3, 3))\n",
    "b = np.random.randint(0, 10, size=(3, 3))\n",
    "\n",
    "print(a, a.shape, '\\n')\n",
    "print(b, b.shape, '\\n')\n",
    "\n",
    "dist = np.zeros((b.shape[0], a.shape[0]))\n",
    "\n",
    "for i in range(a.shape[0]):\n",
    "    for j in range(b.shape[0]):\n",
    "        dist[i, j] = np.linalg.norm(a[i] - b[j])\n",
    "\n",
    "# print(dist, end='\\n\\n\\n')\n"
   ]
  },
  {
   "attachments": {},
   "cell_type": "markdown",
   "metadata": {},
   "source": [
    "### Three loop"
   ]
  },
  {
   "cell_type": "code",
   "execution_count": null,
   "metadata": {},
   "outputs": [],
   "source": []
  },
  {
   "cell_type": "code",
   "execution_count": 4,
   "metadata": {},
   "outputs": [
    {
     "name": "stdout",
     "output_type": "stream",
     "text": [
      "[[6.         7.81024968]\n",
      " [5.         4.24264069]]\n",
      "\n",
      "\n"
     ]
    }
   ],
   "source": [
    "for i in range(a.shape[0]):\n",
    "    dist[i, :] = np.linalg.norm(a[i] - b, axis=1)\n",
    "\n",
    "print(dist, end='\\n\\n\\n')"
   ]
  },
  {
   "cell_type": "code",
   "execution_count": 6,
   "metadata": {},
   "outputs": [
    {
     "data": {
      "text/plain": [
       "array([[6.        , 7.81024968]])"
      ]
     },
     "execution_count": 6,
     "metadata": {},
     "output_type": "execute_result"
    }
   ],
   "source": [
    "dist1 = np.zeros(shape=(1, 2))\n",
    "dist1[0, :] = np.linalg.norm(a[0] - b, axis=1)\n",
    "dist1"
   ]
  },
  {
   "cell_type": "code",
   "execution_count": 7,
   "metadata": {},
   "outputs": [
    {
     "name": "stdout",
     "output_type": "stream",
     "text": [
      "[7 2] [1 2]\n"
     ]
    }
   ],
   "source": [
    "print(a[0], b[0])"
   ]
  },
  {
   "cell_type": "code",
   "execution_count": 8,
   "metadata": {},
   "outputs": [
    {
     "data": {
      "text/plain": [
       "array([[ 6,  0],\n",
       "       [ 5, -6]])"
      ]
     },
     "execution_count": 8,
     "metadata": {},
     "output_type": "execute_result"
    }
   ],
   "source": [
    "a[0] - b"
   ]
  },
  {
   "cell_type": "code",
   "execution_count": 9,
   "metadata": {},
   "outputs": [
    {
     "data": {
      "text/plain": [
       "11.090536506409418"
      ]
     },
     "execution_count": 9,
     "metadata": {},
     "output_type": "execute_result"
    }
   ],
   "source": [
    "np.sqrt(np.sum([7**2, 7**2, 4**2, 3**2, 0**2]))"
   ]
  }
 ],
 "metadata": {
  "kernelspec": {
   "display_name": "ml_venv",
   "language": "python",
   "name": "python3"
  },
  "language_info": {
   "codemirror_mode": {
    "name": "ipython",
    "version": 3
   },
   "file_extension": ".py",
   "mimetype": "text/x-python",
   "name": "python",
   "nbconvert_exporter": "python",
   "pygments_lexer": "ipython3",
   "version": "3.11.1"
  },
  "orig_nbformat": 4,
  "vscode": {
   "interpreter": {
    "hash": "602538ec380bee7f30cf60ab9cd975200dbef82db9956ec553e95c0b26708ef7"
   }
  }
 },
 "nbformat": 4,
 "nbformat_minor": 2
}
