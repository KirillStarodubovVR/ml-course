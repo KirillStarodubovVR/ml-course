{
 "cells": [
  {
   "cell_type": "markdown",
   "metadata": {
    "nbgrader": {
     "grade": false,
     "grade_id": "cell-86e0de040aac317a",
     "locked": true,
     "schema_version": 2,
     "solution": false
    }
   },
   "source": [
    "# Lab assignment №1, part 2\n",
    "\n",
    "This lab assignment consists of several parts. You are supposed to make some transformations, train some models, estimate the quality of the models and explain your results.\n",
    "\n",
    "Several comments:\n",
    "* Don't hesitate to ask questions, it's a good practice.\n",
    "* No private/public sharing, please. The copied assignments will be graded with 0 points.\n",
    "* Blocks of this lab will be graded separately."
   ]
  },
  {
   "cell_type": "markdown",
   "metadata": {},
   "source": [
    "__*This is the second part of the assignment. First and third parts are waiting for you in the same directory.*__"
   ]
  },
  {
   "cell_type": "markdown",
   "metadata": {
    "nbgrader": {
     "grade": false,
     "grade_id": "cell-512ba712fc0fc065",
     "locked": true,
     "schema_version": 2,
     "solution": false
    }
   },
   "source": [
    "## Part 2. Data preprocessing, model training and evaluation."
   ]
  },
  {
   "cell_type": "markdown",
   "metadata": {
    "nbgrader": {
     "grade": false,
     "grade_id": "cell-b656a4266174b009",
     "locked": true,
     "schema_version": 2,
     "solution": false
    }
   },
   "source": [
    "### 1. Reading the data\n",
    "Today we work with the [dataset](https://archive.ics.uci.edu/ml/datasets/Statlog+%28Vehicle+Silhouettes%29), describing different cars for multiclass ($k=4$) classification problem. The data is available below."
   ]
  },
  {
   "cell_type": "code",
   "execution_count": 1,
   "metadata": {},
   "outputs": [],
   "source": [
    "# If on colab, uncomment the following lines\n",
    "\n",
    "# ! wget https://raw.githubusercontent.com/girafe-ai/ml-mipt/basic_s21/homeworks_basic/Lab1_ML_pipeline_and_SVM/car_data.csv"
   ]
  },
  {
   "cell_type": "code",
   "execution_count": 1,
   "metadata": {
    "nbgrader": {
     "grade": false,
     "grade_id": "cell-eebac6bfdf73d0bc",
     "locked": true,
     "schema_version": 2,
     "solution": false
    }
   },
   "outputs": [
    {
     "name": "stdout",
     "output_type": "stream",
     "text": [
      "(846, 19) (846,)\n",
      "(549, 19) (549,) (297, 19) (297,)\n"
     ]
    }
   ],
   "source": [
    "import pandas as pd\n",
    "import numpy as np\n",
    "from sklearn.model_selection import train_test_split\n",
    "\n",
    "dataset = pd.read_csv('car_data.csv', delimiter=',', header=None).values\n",
    "data = dataset[:, :-1].astype(int)\n",
    "target = dataset[:, -1]\n",
    "\n",
    "print(data.shape, target.shape)\n",
    "\n",
    "X_train, X_test, y_train, y_test = train_test_split(data, target, test_size=0.35)\n",
    "print(X_train.shape, y_train.shape, X_test.shape, y_test.shape)"
   ]
  },
  {
   "cell_type": "markdown",
   "metadata": {
    "nbgrader": {
     "grade": false,
     "grade_id": "cell-88b1a0f688568f2c",
     "locked": true,
     "schema_version": 2,
     "solution": false
    }
   },
   "source": [
    "To get some insights about the dataset, `pandas` might be used. The `train` part is transformed to `pd.DataFrame` below."
   ]
  },
  {
   "cell_type": "code",
   "execution_count": 2,
   "metadata": {},
   "outputs": [
    {
     "data": {
      "text/html": [
       "<div>\n",
       "<style scoped>\n",
       "    .dataframe tbody tr th:only-of-type {\n",
       "        vertical-align: middle;\n",
       "    }\n",
       "\n",
       "    .dataframe tbody tr th {\n",
       "        vertical-align: top;\n",
       "    }\n",
       "\n",
       "    .dataframe thead th {\n",
       "        text-align: right;\n",
       "    }\n",
       "</style>\n",
       "<table border=\"1\" class=\"dataframe\">\n",
       "  <thead>\n",
       "    <tr style=\"text-align: right;\">\n",
       "      <th></th>\n",
       "      <th>0</th>\n",
       "      <th>1</th>\n",
       "      <th>2</th>\n",
       "      <th>3</th>\n",
       "      <th>4</th>\n",
       "      <th>5</th>\n",
       "      <th>6</th>\n",
       "      <th>7</th>\n",
       "      <th>8</th>\n",
       "      <th>9</th>\n",
       "      <th>10</th>\n",
       "      <th>11</th>\n",
       "      <th>12</th>\n",
       "      <th>13</th>\n",
       "      <th>14</th>\n",
       "      <th>15</th>\n",
       "      <th>16</th>\n",
       "      <th>17</th>\n",
       "      <th>18</th>\n",
       "    </tr>\n",
       "  </thead>\n",
       "  <tbody>\n",
       "    <tr>\n",
       "      <th>0</th>\n",
       "      <td>48</td>\n",
       "      <td>89</td>\n",
       "      <td>47</td>\n",
       "      <td>81</td>\n",
       "      <td>147</td>\n",
       "      <td>64</td>\n",
       "      <td>11</td>\n",
       "      <td>156</td>\n",
       "      <td>44</td>\n",
       "      <td>20</td>\n",
       "      <td>163</td>\n",
       "      <td>170</td>\n",
       "      <td>352</td>\n",
       "      <td>188</td>\n",
       "      <td>76</td>\n",
       "      <td>6</td>\n",
       "      <td>13</td>\n",
       "      <td>184</td>\n",
       "      <td>193</td>\n",
       "    </tr>\n",
       "    <tr>\n",
       "      <th>1</th>\n",
       "      <td>844</td>\n",
       "      <td>86</td>\n",
       "      <td>36</td>\n",
       "      <td>78</td>\n",
       "      <td>146</td>\n",
       "      <td>58</td>\n",
       "      <td>7</td>\n",
       "      <td>135</td>\n",
       "      <td>50</td>\n",
       "      <td>18</td>\n",
       "      <td>124</td>\n",
       "      <td>155</td>\n",
       "      <td>270</td>\n",
       "      <td>148</td>\n",
       "      <td>66</td>\n",
       "      <td>0</td>\n",
       "      <td>25</td>\n",
       "      <td>190</td>\n",
       "      <td>195</td>\n",
       "    </tr>\n",
       "    <tr>\n",
       "      <th>2</th>\n",
       "      <td>840</td>\n",
       "      <td>93</td>\n",
       "      <td>34</td>\n",
       "      <td>66</td>\n",
       "      <td>140</td>\n",
       "      <td>56</td>\n",
       "      <td>7</td>\n",
       "      <td>130</td>\n",
       "      <td>51</td>\n",
       "      <td>18</td>\n",
       "      <td>120</td>\n",
       "      <td>151</td>\n",
       "      <td>251</td>\n",
       "      <td>114</td>\n",
       "      <td>62</td>\n",
       "      <td>5</td>\n",
       "      <td>29</td>\n",
       "      <td>201</td>\n",
       "      <td>207</td>\n",
       "    </tr>\n",
       "    <tr>\n",
       "      <th>3</th>\n",
       "      <td>366</td>\n",
       "      <td>90</td>\n",
       "      <td>47</td>\n",
       "      <td>85</td>\n",
       "      <td>149</td>\n",
       "      <td>60</td>\n",
       "      <td>10</td>\n",
       "      <td>155</td>\n",
       "      <td>43</td>\n",
       "      <td>19</td>\n",
       "      <td>155</td>\n",
       "      <td>179</td>\n",
       "      <td>355</td>\n",
       "      <td>186</td>\n",
       "      <td>75</td>\n",
       "      <td>1</td>\n",
       "      <td>5</td>\n",
       "      <td>185</td>\n",
       "      <td>196</td>\n",
       "    </tr>\n",
       "    <tr>\n",
       "      <th>4</th>\n",
       "      <td>413</td>\n",
       "      <td>88</td>\n",
       "      <td>36</td>\n",
       "      <td>78</td>\n",
       "      <td>160</td>\n",
       "      <td>62</td>\n",
       "      <td>6</td>\n",
       "      <td>140</td>\n",
       "      <td>48</td>\n",
       "      <td>18</td>\n",
       "      <td>123</td>\n",
       "      <td>161</td>\n",
       "      <td>287</td>\n",
       "      <td>129</td>\n",
       "      <td>66</td>\n",
       "      <td>4</td>\n",
       "      <td>35</td>\n",
       "      <td>194</td>\n",
       "      <td>202</td>\n",
       "    </tr>\n",
       "    <tr>\n",
       "      <th>5</th>\n",
       "      <td>690</td>\n",
       "      <td>94</td>\n",
       "      <td>40</td>\n",
       "      <td>85</td>\n",
       "      <td>186</td>\n",
       "      <td>62</td>\n",
       "      <td>9</td>\n",
       "      <td>169</td>\n",
       "      <td>39</td>\n",
       "      <td>20</td>\n",
       "      <td>139</td>\n",
       "      <td>184</td>\n",
       "      <td>430</td>\n",
       "      <td>133</td>\n",
       "      <td>61</td>\n",
       "      <td>2</td>\n",
       "      <td>9</td>\n",
       "      <td>200</td>\n",
       "      <td>210</td>\n",
       "    </tr>\n",
       "    <tr>\n",
       "      <th>6</th>\n",
       "      <td>640</td>\n",
       "      <td>91</td>\n",
       "      <td>52</td>\n",
       "      <td>98</td>\n",
       "      <td>196</td>\n",
       "      <td>62</td>\n",
       "      <td>9</td>\n",
       "      <td>193</td>\n",
       "      <td>34</td>\n",
       "      <td>22</td>\n",
       "      <td>161</td>\n",
       "      <td>216</td>\n",
       "      <td>562</td>\n",
       "      <td>244</td>\n",
       "      <td>69</td>\n",
       "      <td>3</td>\n",
       "      <td>1</td>\n",
       "      <td>190</td>\n",
       "      <td>199</td>\n",
       "    </tr>\n",
       "    <tr>\n",
       "      <th>7</th>\n",
       "      <td>163</td>\n",
       "      <td>85</td>\n",
       "      <td>40</td>\n",
       "      <td>72</td>\n",
       "      <td>139</td>\n",
       "      <td>59</td>\n",
       "      <td>5</td>\n",
       "      <td>132</td>\n",
       "      <td>50</td>\n",
       "      <td>18</td>\n",
       "      <td>135</td>\n",
       "      <td>159</td>\n",
       "      <td>260</td>\n",
       "      <td>150</td>\n",
       "      <td>68</td>\n",
       "      <td>3</td>\n",
       "      <td>9</td>\n",
       "      <td>191</td>\n",
       "      <td>195</td>\n",
       "    </tr>\n",
       "    <tr>\n",
       "      <th>8</th>\n",
       "      <td>0</td>\n",
       "      <td>95</td>\n",
       "      <td>48</td>\n",
       "      <td>83</td>\n",
       "      <td>178</td>\n",
       "      <td>72</td>\n",
       "      <td>10</td>\n",
       "      <td>162</td>\n",
       "      <td>42</td>\n",
       "      <td>20</td>\n",
       "      <td>159</td>\n",
       "      <td>176</td>\n",
       "      <td>379</td>\n",
       "      <td>184</td>\n",
       "      <td>70</td>\n",
       "      <td>6</td>\n",
       "      <td>16</td>\n",
       "      <td>187</td>\n",
       "      <td>197</td>\n",
       "    </tr>\n",
       "    <tr>\n",
       "      <th>9</th>\n",
       "      <td>172</td>\n",
       "      <td>94</td>\n",
       "      <td>45</td>\n",
       "      <td>81</td>\n",
       "      <td>166</td>\n",
       "      <td>67</td>\n",
       "      <td>9</td>\n",
       "      <td>145</td>\n",
       "      <td>46</td>\n",
       "      <td>19</td>\n",
       "      <td>147</td>\n",
       "      <td>164</td>\n",
       "      <td>313</td>\n",
       "      <td>179</td>\n",
       "      <td>66</td>\n",
       "      <td>11</td>\n",
       "      <td>14</td>\n",
       "      <td>194</td>\n",
       "      <td>202</td>\n",
       "    </tr>\n",
       "    <tr>\n",
       "      <th>10</th>\n",
       "      <td>222</td>\n",
       "      <td>100</td>\n",
       "      <td>50</td>\n",
       "      <td>81</td>\n",
       "      <td>197</td>\n",
       "      <td>67</td>\n",
       "      <td>6</td>\n",
       "      <td>186</td>\n",
       "      <td>34</td>\n",
       "      <td>22</td>\n",
       "      <td>158</td>\n",
       "      <td>206</td>\n",
       "      <td>531</td>\n",
       "      <td>198</td>\n",
       "      <td>74</td>\n",
       "      <td>6</td>\n",
       "      <td>1</td>\n",
       "      <td>197</td>\n",
       "      <td>198</td>\n",
       "    </tr>\n",
       "    <tr>\n",
       "      <th>11</th>\n",
       "      <td>669</td>\n",
       "      <td>85</td>\n",
       "      <td>44</td>\n",
       "      <td>66</td>\n",
       "      <td>125</td>\n",
       "      <td>58</td>\n",
       "      <td>6</td>\n",
       "      <td>148</td>\n",
       "      <td>45</td>\n",
       "      <td>19</td>\n",
       "      <td>145</td>\n",
       "      <td>170</td>\n",
       "      <td>323</td>\n",
       "      <td>185</td>\n",
       "      <td>84</td>\n",
       "      <td>8</td>\n",
       "      <td>1</td>\n",
       "      <td>180</td>\n",
       "      <td>183</td>\n",
       "    </tr>\n",
       "    <tr>\n",
       "      <th>12</th>\n",
       "      <td>63</td>\n",
       "      <td>83</td>\n",
       "      <td>42</td>\n",
       "      <td>66</td>\n",
       "      <td>156</td>\n",
       "      <td>67</td>\n",
       "      <td>7</td>\n",
       "      <td>150</td>\n",
       "      <td>45</td>\n",
       "      <td>19</td>\n",
       "      <td>144</td>\n",
       "      <td>174</td>\n",
       "      <td>333</td>\n",
       "      <td>159</td>\n",
       "      <td>78</td>\n",
       "      <td>4</td>\n",
       "      <td>2</td>\n",
       "      <td>182</td>\n",
       "      <td>188</td>\n",
       "    </tr>\n",
       "    <tr>\n",
       "      <th>13</th>\n",
       "      <td>720</td>\n",
       "      <td>91</td>\n",
       "      <td>38</td>\n",
       "      <td>76</td>\n",
       "      <td>172</td>\n",
       "      <td>61</td>\n",
       "      <td>8</td>\n",
       "      <td>167</td>\n",
       "      <td>40</td>\n",
       "      <td>20</td>\n",
       "      <td>134</td>\n",
       "      <td>196</td>\n",
       "      <td>415</td>\n",
       "      <td>145</td>\n",
       "      <td>71</td>\n",
       "      <td>0</td>\n",
       "      <td>28</td>\n",
       "      <td>189</td>\n",
       "      <td>198</td>\n",
       "    </tr>\n",
       "    <tr>\n",
       "      <th>14</th>\n",
       "      <td>192</td>\n",
       "      <td>93</td>\n",
       "      <td>43</td>\n",
       "      <td>76</td>\n",
       "      <td>149</td>\n",
       "      <td>57</td>\n",
       "      <td>7</td>\n",
       "      <td>149</td>\n",
       "      <td>44</td>\n",
       "      <td>19</td>\n",
       "      <td>143</td>\n",
       "      <td>172</td>\n",
       "      <td>335</td>\n",
       "      <td>176</td>\n",
       "      <td>69</td>\n",
       "      <td>14</td>\n",
       "      <td>0</td>\n",
       "      <td>189</td>\n",
       "      <td>194</td>\n",
       "    </tr>\n",
       "  </tbody>\n",
       "</table>\n",
       "</div>"
      ],
      "text/plain": [
       "     0    1   2   3    4   5   6    7   8   9    10   11   12   13  14  15  \\\n",
       "0    48   89  47  81  147  64  11  156  44  20  163  170  352  188  76   6   \n",
       "1   844   86  36  78  146  58   7  135  50  18  124  155  270  148  66   0   \n",
       "2   840   93  34  66  140  56   7  130  51  18  120  151  251  114  62   5   \n",
       "3   366   90  47  85  149  60  10  155  43  19  155  179  355  186  75   1   \n",
       "4   413   88  36  78  160  62   6  140  48  18  123  161  287  129  66   4   \n",
       "5   690   94  40  85  186  62   9  169  39  20  139  184  430  133  61   2   \n",
       "6   640   91  52  98  196  62   9  193  34  22  161  216  562  244  69   3   \n",
       "7   163   85  40  72  139  59   5  132  50  18  135  159  260  150  68   3   \n",
       "8     0   95  48  83  178  72  10  162  42  20  159  176  379  184  70   6   \n",
       "9   172   94  45  81  166  67   9  145  46  19  147  164  313  179  66  11   \n",
       "10  222  100  50  81  197  67   6  186  34  22  158  206  531  198  74   6   \n",
       "11  669   85  44  66  125  58   6  148  45  19  145  170  323  185  84   8   \n",
       "12   63   83  42  66  156  67   7  150  45  19  144  174  333  159  78   4   \n",
       "13  720   91  38  76  172  61   8  167  40  20  134  196  415  145  71   0   \n",
       "14  192   93  43  76  149  57   7  149  44  19  143  172  335  176  69  14   \n",
       "\n",
       "    16   17   18  \n",
       "0   13  184  193  \n",
       "1   25  190  195  \n",
       "2   29  201  207  \n",
       "3    5  185  196  \n",
       "4   35  194  202  \n",
       "5    9  200  210  \n",
       "6    1  190  199  \n",
       "7    9  191  195  \n",
       "8   16  187  197  \n",
       "9   14  194  202  \n",
       "10   1  197  198  \n",
       "11   1  180  183  \n",
       "12   2  182  188  \n",
       "13  28  189  198  \n",
       "14   0  189  194  "
      ]
     },
     "execution_count": 2,
     "metadata": {},
     "output_type": "execute_result"
    }
   ],
   "source": [
    "X_train_pd = pd.DataFrame(X_train)\n",
    "\n",
    "# First 15 rows of our dataset.\n",
    "X_train_pd.head(15)"
   ]
  },
  {
   "cell_type": "markdown",
   "metadata": {
    "nbgrader": {
     "grade": false,
     "grade_id": "cell-98e7d91d77d65fcf",
     "locked": true,
     "schema_version": 2,
     "solution": false
    }
   },
   "source": [
    "Methods `describe` and `info` deliver some useful information."
   ]
  },
  {
   "cell_type": "code",
   "execution_count": 3,
   "metadata": {},
   "outputs": [
    {
     "data": {
      "text/html": [
       "<div>\n",
       "<style scoped>\n",
       "    .dataframe tbody tr th:only-of-type {\n",
       "        vertical-align: middle;\n",
       "    }\n",
       "\n",
       "    .dataframe tbody tr th {\n",
       "        vertical-align: top;\n",
       "    }\n",
       "\n",
       "    .dataframe thead th {\n",
       "        text-align: right;\n",
       "    }\n",
       "</style>\n",
       "<table border=\"1\" class=\"dataframe\">\n",
       "  <thead>\n",
       "    <tr style=\"text-align: right;\">\n",
       "      <th></th>\n",
       "      <th>0</th>\n",
       "      <th>1</th>\n",
       "      <th>2</th>\n",
       "      <th>3</th>\n",
       "      <th>4</th>\n",
       "      <th>5</th>\n",
       "      <th>6</th>\n",
       "      <th>7</th>\n",
       "      <th>8</th>\n",
       "      <th>9</th>\n",
       "      <th>10</th>\n",
       "      <th>11</th>\n",
       "      <th>12</th>\n",
       "      <th>13</th>\n",
       "      <th>14</th>\n",
       "      <th>15</th>\n",
       "      <th>16</th>\n",
       "      <th>17</th>\n",
       "      <th>18</th>\n",
       "    </tr>\n",
       "  </thead>\n",
       "  <tbody>\n",
       "    <tr>\n",
       "      <th>count</th>\n",
       "      <td>549.000000</td>\n",
       "      <td>549.000000</td>\n",
       "      <td>549.000000</td>\n",
       "      <td>549.000000</td>\n",
       "      <td>549.000000</td>\n",
       "      <td>549.000000</td>\n",
       "      <td>549.000000</td>\n",
       "      <td>549.000000</td>\n",
       "      <td>549.000000</td>\n",
       "      <td>549.000000</td>\n",
       "      <td>549.000000</td>\n",
       "      <td>549.000000</td>\n",
       "      <td>549.000000</td>\n",
       "      <td>549.000000</td>\n",
       "      <td>549.000000</td>\n",
       "      <td>549.000000</td>\n",
       "      <td>549.000000</td>\n",
       "      <td>549.000000</td>\n",
       "      <td>549.000000</td>\n",
       "    </tr>\n",
       "    <tr>\n",
       "      <th>mean</th>\n",
       "      <td>418.919854</td>\n",
       "      <td>93.637523</td>\n",
       "      <td>44.841530</td>\n",
       "      <td>81.712204</td>\n",
       "      <td>168.958106</td>\n",
       "      <td>61.816029</td>\n",
       "      <td>8.584699</td>\n",
       "      <td>168.304189</td>\n",
       "      <td>41.047359</td>\n",
       "      <td>20.533698</td>\n",
       "      <td>147.901639</td>\n",
       "      <td>188.229508</td>\n",
       "      <td>437.145719</td>\n",
       "      <td>174.415301</td>\n",
       "      <td>72.409836</td>\n",
       "      <td>6.455373</td>\n",
       "      <td>12.918033</td>\n",
       "      <td>189.047359</td>\n",
       "      <td>195.693989</td>\n",
       "    </tr>\n",
       "    <tr>\n",
       "      <th>std</th>\n",
       "      <td>245.631833</td>\n",
       "      <td>8.252722</td>\n",
       "      <td>6.177309</td>\n",
       "      <td>15.566231</td>\n",
       "      <td>33.564135</td>\n",
       "      <td>8.090774</td>\n",
       "      <td>4.924857</td>\n",
       "      <td>33.043938</td>\n",
       "      <td>7.819446</td>\n",
       "      <td>2.581032</td>\n",
       "      <td>14.614554</td>\n",
       "      <td>30.928605</td>\n",
       "      <td>175.011910</td>\n",
       "      <td>32.418435</td>\n",
       "      <td>7.523538</td>\n",
       "      <td>4.836403</td>\n",
       "      <td>8.954805</td>\n",
       "      <td>6.206420</td>\n",
       "      <td>7.435439</td>\n",
       "    </tr>\n",
       "    <tr>\n",
       "      <th>min</th>\n",
       "      <td>0.000000</td>\n",
       "      <td>77.000000</td>\n",
       "      <td>33.000000</td>\n",
       "      <td>40.000000</td>\n",
       "      <td>104.000000</td>\n",
       "      <td>47.000000</td>\n",
       "      <td>2.000000</td>\n",
       "      <td>112.000000</td>\n",
       "      <td>26.000000</td>\n",
       "      <td>17.000000</td>\n",
       "      <td>118.000000</td>\n",
       "      <td>130.000000</td>\n",
       "      <td>184.000000</td>\n",
       "      <td>112.000000</td>\n",
       "      <td>59.000000</td>\n",
       "      <td>0.000000</td>\n",
       "      <td>0.000000</td>\n",
       "      <td>177.000000</td>\n",
       "      <td>182.000000</td>\n",
       "    </tr>\n",
       "    <tr>\n",
       "      <th>25%</th>\n",
       "      <td>202.000000</td>\n",
       "      <td>87.000000</td>\n",
       "      <td>40.000000</td>\n",
       "      <td>70.000000</td>\n",
       "      <td>142.000000</td>\n",
       "      <td>57.000000</td>\n",
       "      <td>6.000000</td>\n",
       "      <td>147.000000</td>\n",
       "      <td>33.000000</td>\n",
       "      <td>19.000000</td>\n",
       "      <td>138.000000</td>\n",
       "      <td>168.000000</td>\n",
       "      <td>319.000000</td>\n",
       "      <td>149.000000</td>\n",
       "      <td>67.000000</td>\n",
       "      <td>3.000000</td>\n",
       "      <td>5.000000</td>\n",
       "      <td>184.000000</td>\n",
       "      <td>190.000000</td>\n",
       "    </tr>\n",
       "    <tr>\n",
       "      <th>50%</th>\n",
       "      <td>416.000000</td>\n",
       "      <td>93.000000</td>\n",
       "      <td>44.000000</td>\n",
       "      <td>80.000000</td>\n",
       "      <td>166.000000</td>\n",
       "      <td>61.000000</td>\n",
       "      <td>8.000000</td>\n",
       "      <td>157.000000</td>\n",
       "      <td>43.000000</td>\n",
       "      <td>20.000000</td>\n",
       "      <td>146.000000</td>\n",
       "      <td>178.000000</td>\n",
       "      <td>363.000000</td>\n",
       "      <td>173.000000</td>\n",
       "      <td>72.000000</td>\n",
       "      <td>6.000000</td>\n",
       "      <td>12.000000</td>\n",
       "      <td>188.000000</td>\n",
       "      <td>197.000000</td>\n",
       "    </tr>\n",
       "    <tr>\n",
       "      <th>75%</th>\n",
       "      <td>629.000000</td>\n",
       "      <td>100.000000</td>\n",
       "      <td>49.000000</td>\n",
       "      <td>96.000000</td>\n",
       "      <td>195.000000</td>\n",
       "      <td>65.000000</td>\n",
       "      <td>10.000000</td>\n",
       "      <td>197.000000</td>\n",
       "      <td>46.000000</td>\n",
       "      <td>23.000000</td>\n",
       "      <td>159.000000</td>\n",
       "      <td>217.000000</td>\n",
       "      <td>578.000000</td>\n",
       "      <td>198.000000</td>\n",
       "      <td>75.000000</td>\n",
       "      <td>9.000000</td>\n",
       "      <td>19.000000</td>\n",
       "      <td>193.000000</td>\n",
       "      <td>201.000000</td>\n",
       "    </tr>\n",
       "    <tr>\n",
       "      <th>max</th>\n",
       "      <td>845.000000</td>\n",
       "      <td>119.000000</td>\n",
       "      <td>58.000000</td>\n",
       "      <td>110.000000</td>\n",
       "      <td>322.000000</td>\n",
       "      <td>133.000000</td>\n",
       "      <td>55.000000</td>\n",
       "      <td>265.000000</td>\n",
       "      <td>61.000000</td>\n",
       "      <td>29.000000</td>\n",
       "      <td>182.000000</td>\n",
       "      <td>288.000000</td>\n",
       "      <td>1018.000000</td>\n",
       "      <td>262.000000</td>\n",
       "      <td>127.000000</td>\n",
       "      <td>22.000000</td>\n",
       "      <td>40.000000</td>\n",
       "      <td>204.000000</td>\n",
       "      <td>211.000000</td>\n",
       "    </tr>\n",
       "  </tbody>\n",
       "</table>\n",
       "</div>"
      ],
      "text/plain": [
       "               0           1           2           3           4           5   \\\n",
       "count  549.000000  549.000000  549.000000  549.000000  549.000000  549.000000   \n",
       "mean   418.919854   93.637523   44.841530   81.712204  168.958106   61.816029   \n",
       "std    245.631833    8.252722    6.177309   15.566231   33.564135    8.090774   \n",
       "min      0.000000   77.000000   33.000000   40.000000  104.000000   47.000000   \n",
       "25%    202.000000   87.000000   40.000000   70.000000  142.000000   57.000000   \n",
       "50%    416.000000   93.000000   44.000000   80.000000  166.000000   61.000000   \n",
       "75%    629.000000  100.000000   49.000000   96.000000  195.000000   65.000000   \n",
       "max    845.000000  119.000000   58.000000  110.000000  322.000000  133.000000   \n",
       "\n",
       "               6           7           8           9           10          11  \\\n",
       "count  549.000000  549.000000  549.000000  549.000000  549.000000  549.000000   \n",
       "mean     8.584699  168.304189   41.047359   20.533698  147.901639  188.229508   \n",
       "std      4.924857   33.043938    7.819446    2.581032   14.614554   30.928605   \n",
       "min      2.000000  112.000000   26.000000   17.000000  118.000000  130.000000   \n",
       "25%      6.000000  147.000000   33.000000   19.000000  138.000000  168.000000   \n",
       "50%      8.000000  157.000000   43.000000   20.000000  146.000000  178.000000   \n",
       "75%     10.000000  197.000000   46.000000   23.000000  159.000000  217.000000   \n",
       "max     55.000000  265.000000   61.000000   29.000000  182.000000  288.000000   \n",
       "\n",
       "                12          13          14          15          16  \\\n",
       "count   549.000000  549.000000  549.000000  549.000000  549.000000   \n",
       "mean    437.145719  174.415301   72.409836    6.455373   12.918033   \n",
       "std     175.011910   32.418435    7.523538    4.836403    8.954805   \n",
       "min     184.000000  112.000000   59.000000    0.000000    0.000000   \n",
       "25%     319.000000  149.000000   67.000000    3.000000    5.000000   \n",
       "50%     363.000000  173.000000   72.000000    6.000000   12.000000   \n",
       "75%     578.000000  198.000000   75.000000    9.000000   19.000000   \n",
       "max    1018.000000  262.000000  127.000000   22.000000   40.000000   \n",
       "\n",
       "               17          18  \n",
       "count  549.000000  549.000000  \n",
       "mean   189.047359  195.693989  \n",
       "std      6.206420    7.435439  \n",
       "min    177.000000  182.000000  \n",
       "25%    184.000000  190.000000  \n",
       "50%    188.000000  197.000000  \n",
       "75%    193.000000  201.000000  \n",
       "max    204.000000  211.000000  "
      ]
     },
     "execution_count": 3,
     "metadata": {},
     "output_type": "execute_result"
    }
   ],
   "source": [
    "X_train_pd.describe()"
   ]
  },
  {
   "cell_type": "code",
   "execution_count": 4,
   "metadata": {},
   "outputs": [
    {
     "name": "stdout",
     "output_type": "stream",
     "text": [
      "<class 'pandas.core.frame.DataFrame'>\n",
      "RangeIndex: 549 entries, 0 to 548\n",
      "Data columns (total 19 columns):\n",
      " #   Column  Non-Null Count  Dtype\n",
      "---  ------  --------------  -----\n",
      " 0   0       549 non-null    int32\n",
      " 1   1       549 non-null    int32\n",
      " 2   2       549 non-null    int32\n",
      " 3   3       549 non-null    int32\n",
      " 4   4       549 non-null    int32\n",
      " 5   5       549 non-null    int32\n",
      " 6   6       549 non-null    int32\n",
      " 7   7       549 non-null    int32\n",
      " 8   8       549 non-null    int32\n",
      " 9   9       549 non-null    int32\n",
      " 10  10      549 non-null    int32\n",
      " 11  11      549 non-null    int32\n",
      " 12  12      549 non-null    int32\n",
      " 13  13      549 non-null    int32\n",
      " 14  14      549 non-null    int32\n",
      " 15  15      549 non-null    int32\n",
      " 16  16      549 non-null    int32\n",
      " 17  17      549 non-null    int32\n",
      " 18  18      549 non-null    int32\n",
      "dtypes: int32(19)\n",
      "memory usage: 40.9 KB\n"
     ]
    }
   ],
   "source": [
    "X_train_pd.info()"
   ]
  },
  {
   "cell_type": "markdown",
   "metadata": {
    "nbgrader": {
     "grade": false,
     "grade_id": "cell-be844269be69c387",
     "locked": true,
     "schema_version": 2,
     "solution": false
    }
   },
   "source": [
    "### 2. Machine Learning pipeline\n",
    "Here you are supposed to perform the desired transformations. Please, explain your results briefly after each task."
   ]
  },
  {
   "cell_type": "markdown",
   "metadata": {},
   "source": [
    "#### 2.0. Data preprocessing\n",
    "* Make some transformations of the dataset (if necessary). Briefly explain the transformations"
   ]
  },
  {
   "attachments": {},
   "cell_type": "markdown",
   "metadata": {},
   "source": [
    "As we can see after X_train.describe, there are a big difference in std and mean values. Because of it, it's necesasary to conduct normalization or standartization, if we are speak about z-score. In this case i use z-score standartization.\n",
    "$$x = \\frac{x_i - \\mu}{\\sigma}$$"
   ]
  },
  {
   "cell_type": "code",
   "execution_count": 5,
   "metadata": {
    "nbgrader": {
     "grade": true,
     "grade_id": "cell-a1514aa189a49fca",
     "locked": false,
     "points": 15,
     "schema_version": 2,
     "solution": true
    }
   },
   "outputs": [],
   "source": [
    "### YOUR CODE HERE\n",
    "from sklearn.preprocessing import StandardScaler\n",
    "std_scaler = StandardScaler()\n",
    "X_train_std = pd.DataFrame(std_scaler.fit_transform(X_train_pd), columns=X_train_pd.columns)"
   ]
  },
  {
   "cell_type": "code",
   "execution_count": 6,
   "metadata": {},
   "outputs": [
    {
     "data": {
      "text/html": [
       "<div>\n",
       "<style scoped>\n",
       "    .dataframe tbody tr th:only-of-type {\n",
       "        vertical-align: middle;\n",
       "    }\n",
       "\n",
       "    .dataframe tbody tr th {\n",
       "        vertical-align: top;\n",
       "    }\n",
       "\n",
       "    .dataframe thead th {\n",
       "        text-align: right;\n",
       "    }\n",
       "</style>\n",
       "<table border=\"1\" class=\"dataframe\">\n",
       "  <thead>\n",
       "    <tr style=\"text-align: right;\">\n",
       "      <th></th>\n",
       "      <th>0</th>\n",
       "      <th>1</th>\n",
       "      <th>2</th>\n",
       "      <th>3</th>\n",
       "      <th>4</th>\n",
       "      <th>5</th>\n",
       "      <th>6</th>\n",
       "      <th>7</th>\n",
       "      <th>8</th>\n",
       "      <th>9</th>\n",
       "      <th>10</th>\n",
       "      <th>11</th>\n",
       "      <th>12</th>\n",
       "      <th>13</th>\n",
       "      <th>14</th>\n",
       "      <th>15</th>\n",
       "      <th>16</th>\n",
       "      <th>17</th>\n",
       "      <th>18</th>\n",
       "    </tr>\n",
       "  </thead>\n",
       "  <tbody>\n",
       "    <tr>\n",
       "      <th>count</th>\n",
       "      <td>5.490000e+02</td>\n",
       "      <td>5.490000e+02</td>\n",
       "      <td>5.490000e+02</td>\n",
       "      <td>5.490000e+02</td>\n",
       "      <td>5.490000e+02</td>\n",
       "      <td>5.490000e+02</td>\n",
       "      <td>5.490000e+02</td>\n",
       "      <td>5.490000e+02</td>\n",
       "      <td>5.490000e+02</td>\n",
       "      <td>5.490000e+02</td>\n",
       "      <td>5.490000e+02</td>\n",
       "      <td>5.490000e+02</td>\n",
       "      <td>549.000000</td>\n",
       "      <td>5.490000e+02</td>\n",
       "      <td>5.490000e+02</td>\n",
       "      <td>5.490000e+02</td>\n",
       "      <td>5.490000e+02</td>\n",
       "      <td>5.490000e+02</td>\n",
       "      <td>5.490000e+02</td>\n",
       "    </tr>\n",
       "    <tr>\n",
       "      <th>mean</th>\n",
       "      <td>-7.765494e-17</td>\n",
       "      <td>1.536921e-16</td>\n",
       "      <td>3.672432e-16</td>\n",
       "      <td>-1.197180e-16</td>\n",
       "      <td>2.006086e-16</td>\n",
       "      <td>-3.947460e-16</td>\n",
       "      <td>-8.412619e-17</td>\n",
       "      <td>-1.197180e-16</td>\n",
       "      <td>1.399407e-16</td>\n",
       "      <td>-2.459073e-16</td>\n",
       "      <td>1.650168e-16</td>\n",
       "      <td>4.432803e-16</td>\n",
       "      <td>0.000000</td>\n",
       "      <td>-2.264936e-16</td>\n",
       "      <td>-2.588498e-17</td>\n",
       "      <td>4.206309e-17</td>\n",
       "      <td>1.100112e-16</td>\n",
       "      <td>1.488386e-16</td>\n",
       "      <td>-1.151882e-15</td>\n",
       "    </tr>\n",
       "    <tr>\n",
       "      <th>std</th>\n",
       "      <td>1.000912e+00</td>\n",
       "      <td>1.000912e+00</td>\n",
       "      <td>1.000912e+00</td>\n",
       "      <td>1.000912e+00</td>\n",
       "      <td>1.000912e+00</td>\n",
       "      <td>1.000912e+00</td>\n",
       "      <td>1.000912e+00</td>\n",
       "      <td>1.000912e+00</td>\n",
       "      <td>1.000912e+00</td>\n",
       "      <td>1.000912e+00</td>\n",
       "      <td>1.000912e+00</td>\n",
       "      <td>1.000912e+00</td>\n",
       "      <td>1.000912</td>\n",
       "      <td>1.000912e+00</td>\n",
       "      <td>1.000912e+00</td>\n",
       "      <td>1.000912e+00</td>\n",
       "      <td>1.000912e+00</td>\n",
       "      <td>1.000912e+00</td>\n",
       "      <td>1.000912e+00</td>\n",
       "    </tr>\n",
       "    <tr>\n",
       "      <th>min</th>\n",
       "      <td>-1.707034e+00</td>\n",
       "      <td>-2.017843e+00</td>\n",
       "      <td>-1.918688e+00</td>\n",
       "      <td>-2.682104e+00</td>\n",
       "      <td>-1.937108e+00</td>\n",
       "      <td>-1.832895e+00</td>\n",
       "      <td>-1.338253e+00</td>\n",
       "      <td>-1.705473e+00</td>\n",
       "      <td>-1.926106e+00</td>\n",
       "      <td>-1.370351e+00</td>\n",
       "      <td>-2.047884e+00</td>\n",
       "      <td>-1.884424e+00</td>\n",
       "      <td>-1.447768</td>\n",
       "      <td>-1.927059e+00</td>\n",
       "      <td>-1.784010e+00</td>\n",
       "      <td>-1.335964e+00</td>\n",
       "      <td>-1.443897e+00</td>\n",
       "      <td>-1.942883e+00</td>\n",
       "      <td>-1.843399e+00</td>\n",
       "    </tr>\n",
       "    <tr>\n",
       "      <th>25%</th>\n",
       "      <td>-8.839151e-01</td>\n",
       "      <td>-8.050163e-01</td>\n",
       "      <td>-7.844751e-01</td>\n",
       "      <td>-7.530973e-01</td>\n",
       "      <td>-8.039144e-01</td>\n",
       "      <td>-5.957924e-01</td>\n",
       "      <td>-5.253059e-01</td>\n",
       "      <td>-6.453111e-01</td>\n",
       "      <td>-1.030085e+00</td>\n",
       "      <td>-5.947606e-01</td>\n",
       "      <td>-6.781370e-01</td>\n",
       "      <td>-6.546677e-01</td>\n",
       "      <td>-0.675688</td>\n",
       "      <td>-7.846918e-01</td>\n",
       "      <td>-7.197106e-01</td>\n",
       "      <td>-7.151026e-01</td>\n",
       "      <td>-8.850281e-01</td>\n",
       "      <td>-8.139897e-01</td>\n",
       "      <td>-7.664890e-01</td>\n",
       "    </tr>\n",
       "    <tr>\n",
       "      <th>50%</th>\n",
       "      <td>-1.189796e-02</td>\n",
       "      <td>-7.732045e-02</td>\n",
       "      <td>-1.363535e-01</td>\n",
       "      <td>-1.100951e-01</td>\n",
       "      <td>-8.821331e-02</td>\n",
       "      <td>-1.009512e-01</td>\n",
       "      <td>-1.188324e-01</td>\n",
       "      <td>-3.424077e-01</td>\n",
       "      <td>2.499438e-01</td>\n",
       "      <td>-2.069654e-01</td>\n",
       "      <td>-1.302382e-01</td>\n",
       "      <td>-3.310475e-01</td>\n",
       "      <td>-0.424047</td>\n",
       "      <td>-4.369709e-02</td>\n",
       "      <td>-5.452353e-02</td>\n",
       "      <td>-9.424125e-02</td>\n",
       "      <td>-1.026120e-01</td>\n",
       "      <td>-1.689080e-01</td>\n",
       "      <td>1.758070e-01</td>\n",
       "    </tr>\n",
       "    <tr>\n",
       "      <th>75%</th>\n",
       "      <td>8.560443e-01</td>\n",
       "      <td>7.716581e-01</td>\n",
       "      <td>6.737986e-01</td>\n",
       "      <td>9.187084e-01</td>\n",
       "      <td>7.765922e-01</td>\n",
       "      <td>3.938900e-01</td>\n",
       "      <td>2.876411e-01</td>\n",
       "      <td>8.692058e-01</td>\n",
       "      <td>6.339526e-01</td>\n",
       "      <td>9.564203e-01</td>\n",
       "      <td>7.600972e-01</td>\n",
       "      <td>9.310711e-01</td>\n",
       "      <td>0.805561</td>\n",
       "      <td>7.281724e-01</td>\n",
       "      <td>3.445887e-01</td>\n",
       "      <td>5.266201e-01</td>\n",
       "      <td>6.798042e-01</td>\n",
       "      <td>6.374441e-01</td>\n",
       "      <td>7.142618e-01</td>\n",
       "    </tr>\n",
       "    <tr>\n",
       "      <th>max</th>\n",
       "      <td>1.736211e+00</td>\n",
       "      <td>3.076028e+00</td>\n",
       "      <td>2.132072e+00</td>\n",
       "      <td>1.818911e+00</td>\n",
       "      <td>4.563844e+00</td>\n",
       "      <td>8.806190e+00</td>\n",
       "      <td>9.433295e+00</td>\n",
       "      <td>2.928949e+00</td>\n",
       "      <td>2.553996e+00</td>\n",
       "      <td>3.283192e+00</td>\n",
       "      <td>2.335306e+00</td>\n",
       "      <td>3.228774e+00</td>\n",
       "      <td>3.321968</td>\n",
       "      <td>2.704158e+00</td>\n",
       "      <td>7.262534e+00</td>\n",
       "      <td>3.217019e+00</td>\n",
       "      <td>3.027053e+00</td>\n",
       "      <td>2.411419e+00</td>\n",
       "      <td>2.060399e+00</td>\n",
       "    </tr>\n",
       "  </tbody>\n",
       "</table>\n",
       "</div>"
      ],
      "text/plain": [
       "                 0             1             2             3             4   \\\n",
       "count  5.490000e+02  5.490000e+02  5.490000e+02  5.490000e+02  5.490000e+02   \n",
       "mean  -7.765494e-17  1.536921e-16  3.672432e-16 -1.197180e-16  2.006086e-16   \n",
       "std    1.000912e+00  1.000912e+00  1.000912e+00  1.000912e+00  1.000912e+00   \n",
       "min   -1.707034e+00 -2.017843e+00 -1.918688e+00 -2.682104e+00 -1.937108e+00   \n",
       "25%   -8.839151e-01 -8.050163e-01 -7.844751e-01 -7.530973e-01 -8.039144e-01   \n",
       "50%   -1.189796e-02 -7.732045e-02 -1.363535e-01 -1.100951e-01 -8.821331e-02   \n",
       "75%    8.560443e-01  7.716581e-01  6.737986e-01  9.187084e-01  7.765922e-01   \n",
       "max    1.736211e+00  3.076028e+00  2.132072e+00  1.818911e+00  4.563844e+00   \n",
       "\n",
       "                 5             6             7             8             9   \\\n",
       "count  5.490000e+02  5.490000e+02  5.490000e+02  5.490000e+02  5.490000e+02   \n",
       "mean  -3.947460e-16 -8.412619e-17 -1.197180e-16  1.399407e-16 -2.459073e-16   \n",
       "std    1.000912e+00  1.000912e+00  1.000912e+00  1.000912e+00  1.000912e+00   \n",
       "min   -1.832895e+00 -1.338253e+00 -1.705473e+00 -1.926106e+00 -1.370351e+00   \n",
       "25%   -5.957924e-01 -5.253059e-01 -6.453111e-01 -1.030085e+00 -5.947606e-01   \n",
       "50%   -1.009512e-01 -1.188324e-01 -3.424077e-01  2.499438e-01 -2.069654e-01   \n",
       "75%    3.938900e-01  2.876411e-01  8.692058e-01  6.339526e-01  9.564203e-01   \n",
       "max    8.806190e+00  9.433295e+00  2.928949e+00  2.553996e+00  3.283192e+00   \n",
       "\n",
       "                 10            11          12            13            14  \\\n",
       "count  5.490000e+02  5.490000e+02  549.000000  5.490000e+02  5.490000e+02   \n",
       "mean   1.650168e-16  4.432803e-16    0.000000 -2.264936e-16 -2.588498e-17   \n",
       "std    1.000912e+00  1.000912e+00    1.000912  1.000912e+00  1.000912e+00   \n",
       "min   -2.047884e+00 -1.884424e+00   -1.447768 -1.927059e+00 -1.784010e+00   \n",
       "25%   -6.781370e-01 -6.546677e-01   -0.675688 -7.846918e-01 -7.197106e-01   \n",
       "50%   -1.302382e-01 -3.310475e-01   -0.424047 -4.369709e-02 -5.452353e-02   \n",
       "75%    7.600972e-01  9.310711e-01    0.805561  7.281724e-01  3.445887e-01   \n",
       "max    2.335306e+00  3.228774e+00    3.321968  2.704158e+00  7.262534e+00   \n",
       "\n",
       "                 15            16            17            18  \n",
       "count  5.490000e+02  5.490000e+02  5.490000e+02  5.490000e+02  \n",
       "mean   4.206309e-17  1.100112e-16  1.488386e-16 -1.151882e-15  \n",
       "std    1.000912e+00  1.000912e+00  1.000912e+00  1.000912e+00  \n",
       "min   -1.335964e+00 -1.443897e+00 -1.942883e+00 -1.843399e+00  \n",
       "25%   -7.151026e-01 -8.850281e-01 -8.139897e-01 -7.664890e-01  \n",
       "50%   -9.424125e-02 -1.026120e-01 -1.689080e-01  1.758070e-01  \n",
       "75%    5.266201e-01  6.798042e-01  6.374441e-01  7.142618e-01  \n",
       "max    3.217019e+00  3.027053e+00  2.411419e+00  2.060399e+00  "
      ]
     },
     "execution_count": 6,
     "metadata": {},
     "output_type": "execute_result"
    }
   ],
   "source": [
    "X_train_std.describe()"
   ]
  },
  {
   "attachments": {},
   "cell_type": "markdown",
   "metadata": {},
   "source": [
    "As we can see now we have data with $mean=0$ and $std=1$"
   ]
  },
  {
   "attachments": {},
   "cell_type": "markdown",
   "metadata": {},
   "source": [
    "Do the same with X_test"
   ]
  },
  {
   "cell_type": "code",
   "execution_count": 7,
   "metadata": {},
   "outputs": [],
   "source": [
    "X_test_pd = pd.DataFrame(X_test)\n",
    "X_test_std = pd.DataFrame(std_scaler.fit_transform(X_test_pd), columns=X_test_pd.columns)\n",
    "\n",
    "#y_train_pd = pd.DataFrame(y_train)\n",
    "#y_test_pd = pd.DataFrame(y_test)"
   ]
  },
  {
   "cell_type": "markdown",
   "metadata": {},
   "source": [
    "#### 2.1. Basic logistic regression\n",
    "* Find optimal hyperparameters for logistic regression with cross-validation on the `train` data (small grid/random search is enough, no need to find the *best* parameters).\n",
    "\n",
    "* Estimate the model quality with `f1` and `accuracy` scores.\n",
    "* Plot a ROC-curve for the trained model. For the multiclass case you might use `scikitplot` library (e.g. `scikitplot.metrics.plot_roc(test_labels, predicted_proba)`).\n",
    "\n",
    "*Note: please, use the following hyperparameters for logistic regression: `multi_class='multinomial'`, `solver='saga'` `tol=1e-3` and ` max_iter=500`.*"
   ]
  },
  {
   "cell_type": "code",
   "execution_count": 8,
   "metadata": {
    "nbgrader": {
     "grade": true,
     "grade_id": "cell-1dd5ad5d0845cbbb",
     "locked": false,
     "points": 5,
     "schema_version": 2,
     "solution": true
    }
   },
   "outputs": [],
   "source": [
    "### YOUR CODE HERE\n",
    "from sklearn import linear_model, preprocessing\n",
    "from sklearn.model_selection import GridSearchCV, cross_validate\n",
    "from sklearn.metrics import classification_report\n",
    "from scikitplot.metrics import plot_roc_curve"
   ]
  },
  {
   "cell_type": "code",
   "execution_count": 9,
   "metadata": {},
   "outputs": [],
   "source": [
    "# create a dictionary with hyperparameters\n",
    "params_grid = {\n",
    "    \"solver\": [\"saga\"],\n",
    "    \"C\": np.linspace(0.1, 100, 1001),\n",
    "    \"tol\": [1e-3],\n",
    "    \"max_iter\": [500],\n",
    "    \"multi_class\":['multinomial']\n",
    "}"
   ]
  },
  {
   "cell_type": "code",
   "execution_count": 11,
   "metadata": {},
   "outputs": [],
   "source": [
    "lr = linear_model.LogisticRegression()\n",
    "grid = GridSearchCV(lr, params_grid, cv=5, n_jobs=-1)"
   ]
  },
  {
   "cell_type": "code",
   "execution_count": 12,
   "metadata": {},
   "outputs": [],
   "source": [
    "best_grid = grid.fit(X_train_std, y_train).decision_function(X_test_std)"
   ]
  },
  {
   "cell_type": "code",
   "execution_count": 14,
   "metadata": {},
   "outputs": [
    {
     "name": "stdout",
     "output_type": "stream",
     "text": [
      "The biggest parametr of cross validation: 0.80\n",
      "The score of cross validation: 0.79\n",
      "The biggest parametr of cross validation: {'C': 6.6934, 'max_iter': 500, 'multi_class': 'multinomial', 'solver': 'saga', 'tol': 0.001}\n"
     ]
    }
   ],
   "source": [
    "print('The biggest parametr of cross validation: {:.2f}'.format(grid.best_score_))\n",
    "print('The score of cross validation: {:.2f}'.format(grid.score(X_test_std, y_test)))\n",
    "print('The biggest parametr of cross validation: {}'.format(grid.best_params_))"
   ]
  },
  {
   "cell_type": "code",
   "execution_count": 15,
   "metadata": {},
   "outputs": [
    {
     "name": "stdout",
     "output_type": "stream",
     "text": [
      "              precision    recall  f1-score   support\n",
      "\n",
      "         bus       0.86      0.96      0.91        73\n",
      "        opel       0.66      0.56      0.61        73\n",
      "        saab       0.65      0.68      0.67        76\n",
      "         van       0.96      0.95      0.95        75\n",
      "\n",
      "    accuracy                           0.79       297\n",
      "   macro avg       0.78      0.79      0.78       297\n",
      "weighted avg       0.78      0.79      0.78       297\n",
      "\n"
     ]
    }
   ],
   "source": [
    "target_names = set(y_train)\n",
    "best_grid_predict = grid.predict(X_test_std)\n",
    "print(classification_report(y_test, best_grid_predict, target_names=['bus', 'opel', 'saab', 'van']))"
   ]
  },
  {
   "cell_type": "code",
   "execution_count": 16,
   "metadata": {},
   "outputs": [
    {
     "name": "stderr",
     "output_type": "stream",
     "text": [
      "c:\\SKG\\Programming\\venv\\cv_venv\\lib\\site-packages\\sklearn\\utils\\deprecation.py:86: FutureWarning: Function plot_roc_curve is deprecated; This will be removed in v0.5.0. Please use scikitplot.metrics.plot_roc instead.\n",
      "  warnings.warn(msg, category=FutureWarning)\n"
     ]
    },
    {
     "data": {
      "text/plain": [
       "<AxesSubplot: title={'center': 'ROC Curves'}, xlabel='False Positive Rate', ylabel='True Positive Rate'>"
      ]
     },
     "execution_count": 16,
     "metadata": {},
     "output_type": "execute_result"
    },
    {
     "data": {
      "image/png": "[encoded data removed]",
      "text/plain": [
       "<Figure size 640x480 with 1 Axes>"
      ]
     },
     "metadata": {},
     "output_type": "display_data"
    }
   ],
   "source": [
    "plot_roc_curve(y_test, grid.predict_proba(X_test_std), title='ROC Curves')"
   ]
  },
  {
   "cell_type": "code",
   "execution_count": null,
   "metadata": {},
   "outputs": [],
   "source": [
    "# You might use this command to install scikit-plot. \n",
    "# Warning, if you a running locally, don't call pip from within jupyter, call it from terminal in the corresponding \n",
    "# virtual environment instead\n",
    "\n",
    "# ! pip install scikit-plot"
   ]
  },
  {
   "cell_type": "markdown",
   "metadata": {},
   "source": [
    "#### 2.2. PCA: explained variance plot\n",
    "* Apply the PCA to the train part of the data. Build the explaided variance plot. "
   ]
  },
  {
   "cell_type": "code",
   "execution_count": null,
   "metadata": {
    "nbgrader": {
     "grade": true,
     "grade_id": "cell-c6c614740bce090e",
     "locked": false,
     "points": 10,
     "schema_version": 2,
     "solution": true
    }
   },
   "outputs": [],
   "source": [
    "### YOUR CODE HERE"
   ]
  },
  {
   "cell_type": "markdown",
   "metadata": {
    "nbgrader": {
     "grade": false,
     "grade_id": "cell-0c1fe666f52fe53c",
     "locked": true,
     "schema_version": 2,
     "solution": false
    }
   },
   "source": [
    "#### 2.3. PCA trasformation\n",
    "* Select the appropriate number of components. Briefly explain your choice. Should you normalize the data?\n",
    "\n",
    "*Use `fit` and `transform` methods to transform the `train` and `test` parts.*"
   ]
  },
  {
   "cell_type": "code",
   "execution_count": null,
   "metadata": {
    "nbgrader": {
     "grade": true,
     "grade_id": "cell-96ab18d96473ef71",
     "locked": false,
     "points": 5,
     "schema_version": 2,
     "solution": true
    }
   },
   "outputs": [],
   "source": [
    "### YOUR CODE HERE"
   ]
  },
  {
   "cell_type": "markdown",
   "metadata": {},
   "source": [
    "**Note: From this point `sklearn` [Pipeline](https://scikit-learn.org/stable/modules/compose.html) might be useful to perform transformations on the data. Refer to the [docs](https://scikit-learn.org/stable/modules/generated/sklearn.pipeline.Pipeline.html) for more information.**"
   ]
  },
  {
   "cell_type": "markdown",
   "metadata": {
    "nbgrader": {
     "grade": false,
     "grade_id": "cell-d28b58a35c94e988",
     "locked": true,
     "schema_version": 2,
     "solution": false
    }
   },
   "source": [
    "#### 2.4. Logistic regression on PCA-preprocessed data.\n",
    "* Find optimal hyperparameters for logistic regression with cross-validation on the transformed by PCA `train` data.\n",
    "\n",
    "* Estimate the model quality with `f1` and `accuracy` scores.\n",
    "* Plot a ROC-curve for the trained model. For the multiclass case you might use `scikitplot` library (e.g. `scikitplot.metrics.plot_roc(test_labels, predicted_proba)`).\n",
    "\n",
    "*Note: please, use the following hyperparameters for logistic regression: `multi_class='multinomial'`, `solver='saga'` and `tol=1e-3`*"
   ]
  },
  {
   "cell_type": "code",
   "execution_count": null,
   "metadata": {
    "nbgrader": {
     "grade": true,
     "grade_id": "cell-12d53ea45258fa82",
     "locked": false,
     "points": 5,
     "schema_version": 2,
     "solution": true
    }
   },
   "outputs": [],
   "source": [
    "### YOUR CODE HERE"
   ]
  },
  {
   "cell_type": "markdown",
   "metadata": {
    "nbgrader": {
     "grade": false,
     "grade_id": "cell-4fbf16c64076e139",
     "locked": true,
     "schema_version": 2,
     "solution": false
    }
   },
   "source": [
    "#### 2.5. Decision tree\n",
    "* Now train a desicion tree on the same data. Find optimal tree depth (`max_depth`) using cross-validation.\n",
    "\n",
    "* Measure the model quality using the same metrics you used above."
   ]
  },
  {
   "cell_type": "code",
   "execution_count": null,
   "metadata": {
    "nbgrader": {
     "grade": true,
     "grade_id": "cell-748ed20b51c67fab",
     "locked": false,
     "points": 15,
     "schema_version": 2,
     "solution": true
    }
   },
   "outputs": [],
   "source": [
    "from sklearn.tree import DecisionTreeClassifier\n",
    "\n",
    "# YOUR CODE HERE"
   ]
  },
  {
   "cell_type": "markdown",
   "metadata": {
    "nbgrader": {
     "grade": false,
     "grade_id": "cell-9eadd4d8a03ae67a",
     "locked": true,
     "schema_version": 2,
     "solution": false
    }
   },
   "source": [
    "#### 2.6. Bagging.\n",
    "Here starts the ensembling part.\n",
    "\n",
    "First we will use the __Bagging__ approach. Build an ensemble of $N$ algorithms varying N from $N_{min}=2$ to $N_{max}=100$ (with step 5).\n",
    "\n",
    "We will build two ensembles: of logistic regressions and of decision trees.\n",
    "\n",
    "*Comment: each ensemble should be constructed from models of the same family, so logistic regressions should not be mixed up with decision trees.*\n",
    "\n",
    "\n",
    "*Hint 1: To build a __Bagging__ ensebmle varying the ensemble size efficiently you might generate $N_{max}$ subsets of `train` data (of the same size as the original dataset) using bootstrap procedure once. Then you train a new instance of logistic regression/decision tree with optimal hyperparameters you estimated before on each subset (so you train it from scratch). Finally, to get an ensemble of $N$ models you average the $N$ out of $N_{max}$ models predictions.*\n",
    "\n",
    "*Hint 2: sklearn might help you with this taks. Some appropriate function/class might be out there.*\n",
    "\n",
    "* Plot `f1` and `accuracy` scores plots w.r.t. the size of the ensemble.\n",
    "\n",
    "* Briefly analyse the plot. What is the optimal number of algorithms? Explain your answer.\n",
    "\n",
    "* How do you think, are the hyperparameters for the decision trees you found in 2.5 optimal for trees used in ensemble? "
   ]
  },
  {
   "cell_type": "code",
   "execution_count": null,
   "metadata": {
    "nbgrader": {
     "grade": true,
     "grade_id": "cell-8fc95a2b206bdae1",
     "locked": false,
     "points": 35,
     "schema_version": 2,
     "solution": true
    }
   },
   "outputs": [],
   "source": [
    "# YOUR CODE HERE"
   ]
  },
  {
   "cell_type": "code",
   "execution_count": null,
   "metadata": {},
   "outputs": [],
   "source": []
  },
  {
   "cell_type": "markdown",
   "metadata": {
    "nbgrader": {
     "grade": false,
     "grade_id": "cell-241b7691ab44cbfb",
     "locked": true,
     "schema_version": 2,
     "solution": false
    }
   },
   "source": [
    "#### 2.7. Random Forest\n",
    "Now we will work with the Random Forest (its `sklearn` implementation).\n",
    "\n",
    "* * Plot `f1` and `accuracy` scores plots w.r.t. the number of trees in Random Forest.\n",
    "\n",
    "* What is the optimal number of trees you've got? Is it different from the optimal number of logistic regressions/decision trees in 2.6? Explain the results briefly."
   ]
  },
  {
   "cell_type": "code",
   "execution_count": null,
   "metadata": {
    "nbgrader": {
     "grade": true,
     "grade_id": "cell-888755d0f3d91620",
     "locked": false,
     "points": 15,
     "schema_version": 2,
     "solution": true
    }
   },
   "outputs": [],
   "source": [
    "from sklearn.ensemble import RandomForestClassifier\n",
    "\n",
    "# YOUR CODE HERE"
   ]
  },
  {
   "cell_type": "markdown",
   "metadata": {
    "nbgrader": {
     "grade": false,
     "grade_id": "cell-99191c0852538d4d",
     "locked": true,
     "schema_version": 2,
     "solution": false
    }
   },
   "source": [
    "#### 2.8. Learning curve\n",
    "Your goal is to estimate, how does the model behaviour change with the increase of the `train` dataset size.\n",
    "\n",
    "* Split the training data into 10 equal (almost) parts. Then train the models from above (Logistic regression, Desicion Tree, Random Forest) with optimal hyperparameters you have selected on 1 part, 2 parts (combined, so the train size in increased by 2 times), 3 parts and so on.\n",
    "\n",
    "* Build a plot of `accuracy` and `f1` scores on `test` part, varying the `train` dataset size (so the axes will be score - dataset size.\n",
    "\n",
    "* Analyse the final plot. Can you make any conlusions using it? "
   ]
  },
  {
   "cell_type": "code",
   "execution_count": null,
   "metadata": {
    "nbgrader": {
     "grade": true,
     "grade_id": "cell-e39bc7e7dff61ff9",
     "locked": false,
     "points": 15,
     "schema_version": 2,
     "solution": true
    }
   },
   "outputs": [],
   "source": [
    "# YOUR CODE HERE"
   ]
  }
 ],
 "metadata": {
  "celltoolbar": "Create Assignment",
  "kernelspec": {
   "display_name": "cv_venv",
   "language": "python",
   "name": "python3"
  },
  "language_info": {
   "codemirror_mode": {
    "name": "ipython",
    "version": 3
   },
   "file_extension": ".py",
   "mimetype": "text/x-python",
   "name": "python",
   "nbconvert_exporter": "python",
   "pygments_lexer": "ipython3",
   "version": "3.9.13"
  },
  "toc": {
   "base_numbering": 1,
   "nav_menu": {},
   "number_sections": false,
   "sideBar": true,
   "skip_h1_title": false,
   "title_cell": "Table of Contents",
   "title_sidebar": "Contents",
   "toc_cell": false,
   "toc_position": {},
   "toc_section_display": true,
   "toc_window_display": false
  }
 },
 "nbformat": 4,
 "nbformat_minor": 2
}
